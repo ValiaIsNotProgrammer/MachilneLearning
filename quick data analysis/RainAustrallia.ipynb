{
 "cells": [
  {
   "cell_type": "markdown",
   "metadata": {
    "toc": true
   },
   "source": [
    "<h1>Table of Contents<span class=\"tocSkip\"></span></h1>\n",
    "<div class=\"toc\"><ul class=\"toc-item\"><li><ul class=\"toc-item\"><li><span><a href=\"#KNN\" data-toc-modified-id=\"KNN-0.1\"><span class=\"toc-item-num\">0.1&nbsp;&nbsp;</span>KNN</a></span></li><li><span><a href=\"#Naive-Bayes\" data-toc-modified-id=\"Naive-Bayes-0.2\"><span class=\"toc-item-num\">0.2&nbsp;&nbsp;</span>Naive Bayes</a></span></li><li><span><a href=\"#SVM\" data-toc-modified-id=\"SVM-0.3\"><span class=\"toc-item-num\">0.3&nbsp;&nbsp;</span>SVM</a></span></li><li><span><a href=\"#XGBoost\" data-toc-modified-id=\"XGBoost-0.4\"><span class=\"toc-item-num\">0.4&nbsp;&nbsp;</span>XGBoost</a></span></li></ul></li><li><span><a href=\"#New-approach\" data-toc-modified-id=\"New-approach-1\"><span class=\"toc-item-num\">1&nbsp;&nbsp;</span>New approach</a></span><ul class=\"toc-item\"><li><ul class=\"toc-item\"><li><span><a href=\"#Присвоение-X-и-y-статуса-атрибутов-и-тегов\" data-toc-modified-id=\"Присвоение-X-и-y-статуса-атрибутов-и-тегов-1.0.1\"><span class=\"toc-item-num\">1.0.1&nbsp;&nbsp;</span>Присвоение X и y статуса атрибутов и тегов</a></span></li><li><span><a href=\"#Расщепление-тестовых-и-тренировочных-наборов\" data-toc-modified-id=\"Расщепление-тестовых-и-тренировочных-наборов-1.0.2\"><span class=\"toc-item-num\">1.0.2&nbsp;&nbsp;</span>Расщепление тестовых и тренировочных наборов</a></span></li><li><span><a href=\"#Инициализация-нейронной-сети\" data-toc-modified-id=\"Инициализация-нейронной-сети-1.0.3\"><span class=\"toc-item-num\">1.0.3&nbsp;&nbsp;</span>Инициализация нейронной сети</a></span></li><li><span><a href=\"#Определение-путем-добавления-слоев\" data-toc-modified-id=\"Определение-путем-добавления-слоев-1.0.4\"><span class=\"toc-item-num\">1.0.4&nbsp;&nbsp;</span>Определение путем добавления слоев</a></span></li><li><span><a href=\"#Компиляция-нейронной-сети\" data-toc-modified-id=\"Компиляция-нейронной-сети-1.0.5\"><span class=\"toc-item-num\">1.0.5&nbsp;&nbsp;</span>Компиляция нейронной сети</a></span></li><li><span><a href=\"#Тренируйте-нейронную-сеть\" data-toc-modified-id=\"Тренируйте-нейронную-сеть-1.0.6\"><span class=\"toc-item-num\">1.0.6&nbsp;&nbsp;</span>Тренируйте нейронную сеть</a></span></li></ul></li></ul></li></ul></div>"
   ]
  },
  {
   "cell_type": "markdown",
   "metadata": {},
   "source": [
    "Dataset of kaggle - https://www.kaggle.com/jsphyg/weather-dataset-rattle-package\n"
   ]
  },
  {
   "cell_type": "code",
   "execution_count": 4,
   "metadata": {},
   "outputs": [],
   "source": [
    "import datetime\n",
    "\n",
    "import pandas as pd\n",
    "import numpy as np\n",
    "import seaborn as sns\n",
    "import matplotlib.pyplot as plt\n",
    "from sklearn import preprocessing\n",
    "from sklearn.preprocessing import LabelEncoder\n",
    "from sklearn.preprocessing import StandardScaler\n",
    "from sklearn.model_selection import train_test_split\n",
    "from sklearn.metrics import precision_score, recall_score, confusion_matrix, classification_report, accuracy_score, f1_score\n",
    "from keras import callbacks\n",
    "from keras.layers import Dense, BatchNormalization, Dropout, LSTM\n",
    "from keras.models import Sequential\n",
    "from keras.utils import to_categorical"
   ]
  },
  {
   "cell_type": "code",
   "execution_count": 5,
   "metadata": {},
   "outputs": [],
   "source": [
    "df = pd.read_csv('datasets/weatherAUS.csv')"
   ]
  },
  {
   "cell_type": "code",
   "execution_count": 6,
   "metadata": {},
   "outputs": [],
   "source": [
    "import sys\n",
    "sys.setrecursionlimit(1500)"
   ]
  },
  {
   "cell_type": "markdown",
   "metadata": {},
   "source": [
    "RainTomorrow is the target variable to predict. It means -- did it rain the next day, Yes or No?"
   ]
  },
  {
   "cell_type": "code",
   "execution_count": 7,
   "metadata": {
    "scrolled": true
   },
   "outputs": [
    {
     "name": "stdout",
     "output_type": "stream",
     "text": [
      "Date                 0\n",
      "Location             0\n",
      "MinTemp           1485\n",
      "MaxTemp           1261\n",
      "Rainfall          3261\n",
      "Evaporation      62790\n",
      "Sunshine         69835\n",
      "WindGustDir      10326\n",
      "WindGustSpeed    10263\n",
      "WindDir9am       10566\n",
      "WindDir3pm        4228\n",
      "WindSpeed9am      1767\n",
      "WindSpeed3pm      3062\n",
      "Humidity9am       2654\n",
      "Humidity3pm       4507\n",
      "Pressure9am      15065\n",
      "Pressure3pm      15028\n",
      "Cloud9am         55888\n",
      "Cloud3pm         59358\n",
      "Temp9am           1767\n",
      "Temp3pm           3609\n",
      "RainToday         3261\n",
      "RainTomorrow      3267\n",
      "dtype: int64\n",
      "145460 --> 56420\n"
     ]
    }
   ],
   "source": [
    "print(df.isna().sum())\n",
    "print(df.shape[0],'-->', df.dropna().shape[0])\n"
   ]
  },
  {
   "cell_type": "code",
   "execution_count": 20,
   "metadata": {},
   "outputs": [
    {
     "data": {
      "text/html": [
       "<div>\n",
       "<style scoped>\n",
       "    .dataframe tbody tr th:only-of-type {\n",
       "        vertical-align: middle;\n",
       "    }\n",
       "\n",
       "    .dataframe tbody tr th {\n",
       "        vertical-align: top;\n",
       "    }\n",
       "\n",
       "    .dataframe thead th {\n",
       "        text-align: right;\n",
       "    }\n",
       "</style>\n",
       "<table border=\"1\" class=\"dataframe\">\n",
       "  <thead>\n",
       "    <tr style=\"text-align: right;\">\n",
       "      <th></th>\n",
       "      <th>Date</th>\n",
       "      <th>Location</th>\n",
       "      <th>MinTemp</th>\n",
       "      <th>MaxTemp</th>\n",
       "      <th>Rainfall</th>\n",
       "      <th>Evaporation</th>\n",
       "      <th>Sunshine</th>\n",
       "      <th>WindGustDir</th>\n",
       "      <th>WindGustSpeed</th>\n",
       "      <th>WindDir9am</th>\n",
       "      <th>...</th>\n",
       "      <th>Humidity9am</th>\n",
       "      <th>Humidity3pm</th>\n",
       "      <th>Pressure9am</th>\n",
       "      <th>Pressure3pm</th>\n",
       "      <th>Cloud9am</th>\n",
       "      <th>Cloud3pm</th>\n",
       "      <th>Temp9am</th>\n",
       "      <th>Temp3pm</th>\n",
       "      <th>RainToday</th>\n",
       "      <th>RainTomorrow</th>\n",
       "    </tr>\n",
       "  </thead>\n",
       "  <tbody>\n",
       "    <tr>\n",
       "      <th>6049</th>\n",
       "      <td>2009-01-01</td>\n",
       "      <td>Cobar</td>\n",
       "      <td>17.9</td>\n",
       "      <td>35.2</td>\n",
       "      <td>0.0</td>\n",
       "      <td>12.0</td>\n",
       "      <td>12.3</td>\n",
       "      <td>SSW</td>\n",
       "      <td>48.0</td>\n",
       "      <td>ENE</td>\n",
       "      <td>...</td>\n",
       "      <td>20.0</td>\n",
       "      <td>13.0</td>\n",
       "      <td>1006.3</td>\n",
       "      <td>1004.4</td>\n",
       "      <td>2.0</td>\n",
       "      <td>5.0</td>\n",
       "      <td>26.6</td>\n",
       "      <td>33.4</td>\n",
       "      <td>No</td>\n",
       "      <td>No</td>\n",
       "    </tr>\n",
       "    <tr>\n",
       "      <th>6050</th>\n",
       "      <td>2009-01-02</td>\n",
       "      <td>Cobar</td>\n",
       "      <td>18.4</td>\n",
       "      <td>28.9</td>\n",
       "      <td>0.0</td>\n",
       "      <td>14.8</td>\n",
       "      <td>13.0</td>\n",
       "      <td>S</td>\n",
       "      <td>37.0</td>\n",
       "      <td>SSE</td>\n",
       "      <td>...</td>\n",
       "      <td>30.0</td>\n",
       "      <td>8.0</td>\n",
       "      <td>1012.9</td>\n",
       "      <td>1012.1</td>\n",
       "      <td>1.0</td>\n",
       "      <td>1.0</td>\n",
       "      <td>20.3</td>\n",
       "      <td>27.0</td>\n",
       "      <td>No</td>\n",
       "      <td>No</td>\n",
       "    </tr>\n",
       "    <tr>\n",
       "      <th>6052</th>\n",
       "      <td>2009-01-04</td>\n",
       "      <td>Cobar</td>\n",
       "      <td>19.4</td>\n",
       "      <td>37.6</td>\n",
       "      <td>0.0</td>\n",
       "      <td>10.8</td>\n",
       "      <td>10.6</td>\n",
       "      <td>NNE</td>\n",
       "      <td>46.0</td>\n",
       "      <td>NNE</td>\n",
       "      <td>...</td>\n",
       "      <td>42.0</td>\n",
       "      <td>22.0</td>\n",
       "      <td>1012.3</td>\n",
       "      <td>1009.2</td>\n",
       "      <td>1.0</td>\n",
       "      <td>6.0</td>\n",
       "      <td>28.7</td>\n",
       "      <td>34.9</td>\n",
       "      <td>No</td>\n",
       "      <td>No</td>\n",
       "    </tr>\n",
       "    <tr>\n",
       "      <th>6053</th>\n",
       "      <td>2009-01-05</td>\n",
       "      <td>Cobar</td>\n",
       "      <td>21.9</td>\n",
       "      <td>38.4</td>\n",
       "      <td>0.0</td>\n",
       "      <td>11.4</td>\n",
       "      <td>12.2</td>\n",
       "      <td>WNW</td>\n",
       "      <td>31.0</td>\n",
       "      <td>WNW</td>\n",
       "      <td>...</td>\n",
       "      <td>37.0</td>\n",
       "      <td>22.0</td>\n",
       "      <td>1012.7</td>\n",
       "      <td>1009.1</td>\n",
       "      <td>1.0</td>\n",
       "      <td>5.0</td>\n",
       "      <td>29.1</td>\n",
       "      <td>35.6</td>\n",
       "      <td>No</td>\n",
       "      <td>No</td>\n",
       "    </tr>\n",
       "    <tr>\n",
       "      <th>6054</th>\n",
       "      <td>2009-01-06</td>\n",
       "      <td>Cobar</td>\n",
       "      <td>24.2</td>\n",
       "      <td>41.0</td>\n",
       "      <td>0.0</td>\n",
       "      <td>11.2</td>\n",
       "      <td>8.4</td>\n",
       "      <td>WNW</td>\n",
       "      <td>35.0</td>\n",
       "      <td>NW</td>\n",
       "      <td>...</td>\n",
       "      <td>19.0</td>\n",
       "      <td>15.0</td>\n",
       "      <td>1010.7</td>\n",
       "      <td>1007.4</td>\n",
       "      <td>1.0</td>\n",
       "      <td>6.0</td>\n",
       "      <td>33.6</td>\n",
       "      <td>37.6</td>\n",
       "      <td>No</td>\n",
       "      <td>No</td>\n",
       "    </tr>\n",
       "  </tbody>\n",
       "</table>\n",
       "<p>5 rows × 23 columns</p>\n",
       "</div>"
      ],
      "text/plain": [
       "           Date Location  MinTemp  MaxTemp  Rainfall  Evaporation  Sunshine  \\\n",
       "6049 2009-01-01    Cobar     17.9     35.2       0.0         12.0      12.3   \n",
       "6050 2009-01-02    Cobar     18.4     28.9       0.0         14.8      13.0   \n",
       "6052 2009-01-04    Cobar     19.4     37.6       0.0         10.8      10.6   \n",
       "6053 2009-01-05    Cobar     21.9     38.4       0.0         11.4      12.2   \n",
       "6054 2009-01-06    Cobar     24.2     41.0       0.0         11.2       8.4   \n",
       "\n",
       "     WindGustDir  WindGustSpeed WindDir9am  ... Humidity9am  Humidity3pm  \\\n",
       "6049         SSW           48.0        ENE  ...        20.0         13.0   \n",
       "6050           S           37.0        SSE  ...        30.0          8.0   \n",
       "6052         NNE           46.0        NNE  ...        42.0         22.0   \n",
       "6053         WNW           31.0        WNW  ...        37.0         22.0   \n",
       "6054         WNW           35.0         NW  ...        19.0         15.0   \n",
       "\n",
       "      Pressure9am  Pressure3pm  Cloud9am  Cloud3pm  Temp9am  Temp3pm  \\\n",
       "6049       1006.3       1004.4       2.0       5.0     26.6     33.4   \n",
       "6050       1012.9       1012.1       1.0       1.0     20.3     27.0   \n",
       "6052       1012.3       1009.2       1.0       6.0     28.7     34.9   \n",
       "6053       1012.7       1009.1       1.0       5.0     29.1     35.6   \n",
       "6054       1010.7       1007.4       1.0       6.0     33.6     37.6   \n",
       "\n",
       "      RainToday  RainTomorrow  \n",
       "6049         No            No  \n",
       "6050         No            No  \n",
       "6052         No            No  \n",
       "6053         No            No  \n",
       "6054         No            No  \n",
       "\n",
       "[5 rows x 23 columns]"
      ]
     },
     "execution_count": 20,
     "metadata": {},
     "output_type": "execute_result"
    }
   ],
   "source": [
    "df.dropna(inplace=True)\n",
    "df.head()"
   ]
  },
  {
   "cell_type": "code",
   "execution_count": 21,
   "metadata": {},
   "outputs": [],
   "source": [
    "df[\"Date\"] = pd.to_datetime(df.Date)"
   ]
  },
  {
   "cell_type": "code",
   "execution_count": 22,
   "metadata": {},
   "outputs": [
    {
     "data": {
      "text/plain": [
       "<matplotlib.collections.PathCollection at 0x7ff1a7033130>"
      ]
     },
     "execution_count": 22,
     "metadata": {},
     "output_type": "execute_result"
    },
    {
     "data": {
      "image/png": "[encoded data removed]",
      "text/plain": [
       "<Figure size 432x288 with 1 Axes>"
      ]
     },
     "metadata": {
      "needs_background": "light"
     },
     "output_type": "display_data"
    }
   ],
   "source": [
    "# rainfall_case = df[\"Rainfall\"].astype(int)\n",
    "plt.scatter(df[\"Rainfall\"], df[\"RainTomorrow\"])"
   ]
  },
  {
   "cell_type": "markdown",
   "metadata": {},
   "source": [
    "Мы видим что даже когда в какой-то день был ливень, станция считала что на этот день дождя не было."
   ]
  },
  {
   "cell_type": "code",
   "execution_count": 23,
   "metadata": {},
   "outputs": [
    {
     "name": "stdout",
     "output_type": "stream",
     "text": [
      "Data for RainToday = NO: \n",
      " 0.2    3009\n",
      "0.4    1593\n",
      "0.6    1087\n",
      "0.8     834\n",
      "1.0     695\n",
      "0.1      13\n",
      "0.3      11\n",
      "0.7       3\n",
      "0.9       3\n",
      "0.5       1\n",
      "Name: Rainfall, dtype: int64 \n",
      "\n",
      "Data for RainToday = YES: \n",
      " Series([], Name: Rainfall, dtype: int64) \n",
      "\n"
     ]
    }
   ],
   "source": [
    "print('Data for RainToday = NO: \\n', \n",
    "      df.loc[(df['Rainfall'] > 0)&(df['RainToday'] == 'No')]['Rainfall'].value_counts(),'\\n')\n",
    "\n",
    "print('Data for RainToday = YES: \\n',\n",
    "     df.loc[(df['Rainfall'] <= 1) & (df['Rainfall'] >= 0.1) &\n",
    "    (df['RainToday'] == 'Yes')]['Rainfall'].value_counts(),'\\n')"
   ]
  },
  {
   "cell_type": "markdown",
   "metadata": {},
   "source": [
    "Значения от 0.1 до 1.0 единиц ливня не фиксировались станцией как дождь\n",
    "###### 0.04 - 0.48 процента ливня станция не считает за факт дождя"
   ]
  },
  {
   "cell_type": "code",
   "execution_count": 24,
   "metadata": {},
   "outputs": [
    {
     "name": "stdout",
     "output_type": "stream",
     "text": [
      "Data for RainTomorrow = YES: \n",
      " 0.2    674\n",
      "0.4    451\n",
      "0.6    315\n",
      "0.8    278\n",
      "1.0    217\n",
      "0.1      3\n",
      "0.3      2\n",
      "Name: Rainfall, dtype: int64 \n",
      "\n",
      "Data for RainTomorrow = NO: \n",
      " 0.2    2335\n",
      "0.4    1142\n",
      "0.6     772\n",
      "0.8     556\n",
      "1.0     478\n",
      "0.1      10\n",
      "0.3       9\n",
      "0.7       3\n",
      "0.9       3\n",
      "0.5       1\n",
      "Name: Rainfall, dtype: int64 \n",
      "\n"
     ]
    }
   ],
   "source": [
    "print('Data for RainTomorrow = YES: \\n',\n",
    "     df.loc[(df['Rainfall'] <= 1) & (df['Rainfall'] >= 0.1) &\n",
    "    (df['RainTomorrow'] == 'Yes')]['Rainfall'].value_counts(),'\\n')\n",
    "\n",
    "print('Data for RainTomorrow = NO: \\n',\n",
    "     df.loc[(df['Rainfall'] <= 1) & (df['Rainfall'] >= 0.1) &\n",
    "    (df['RainTomorrow'] == 'No')]['Rainfall'].value_counts(),'\\n')"
   ]
  },
  {
   "cell_type": "code",
   "execution_count": 25,
   "metadata": {},
   "outputs": [
    {
     "data": {
      "image/png": "[encoded data removed]",
      "text/plain": [
       "<Figure size 432x288 with 1 Axes>"
      ]
     },
     "metadata": {
      "needs_background": "light"
     },
     "output_type": "display_data"
    }
   ],
   "source": [
    "X1 = df.loc[(df['Rainfall'] <= 1) & (df['Rainfall'] >= 0.1) &\n",
    "    (df['RainTomorrow'] == 'No')]['Rainfall']\n",
    "\n",
    "X2 = df.loc[(df['Rainfall'] <= 1) & (df['Rainfall'] >= 0.1) &\n",
    "    (df['RainTomorrow'] == 'Yes')]['Rainfall']\n",
    "\n",
    "\n",
    "fig, ax = plt.subplots()\n",
    "\n",
    "ax.hist(X1)\n",
    "ax.hist(X2)\n",
    "plt.legend(['No','Yes'])\n",
    "plt.title('Rain tomorrow')\n",
    "\n",
    "plt.show()"
   ]
  },
  {
   "cell_type": "markdown",
   "metadata": {},
   "source": [
    "Я могу предположить что неоднозначность этих маленьких данных связанна с тем, что данные для положительного RT являются просто вероятностью, не имея почти никакой зависимости по отношению к RT. Данные проводились на протяжении 10 лет, и столь большой промежуток времени может в себя включать вероятность того, что станция фиксировала данные во время начала ливня. Это заметно по распределению положительного RT по отношению друг к другу, в то время как распредление отрицательного RT походит на логнормальное"
   ]
  },
  {
   "cell_type": "code",
   "execution_count": 26,
   "metadata": {},
   "outputs": [],
   "source": [
    "humidity = df['Humidity9am']\n",
    "rainfall = df['Rainfall']"
   ]
  },
  {
   "cell_type": "code",
   "execution_count": 27,
   "metadata": {},
   "outputs": [],
   "source": [
    "from sklearn.linear_model import LinearRegression\n",
    "humidity = np.array(humidity).reshape(-1,1)\n",
    "rainfall = np.array(rainfall).reshape(-1,1)\n",
    "\n",
    "LineReg = LinearRegression()"
   ]
  },
  {
   "cell_type": "code",
   "execution_count": 28,
   "metadata": {},
   "outputs": [],
   "source": [
    "X_train, X_test, y_train, y_test = train_test_split(\n",
    "    rainfall,\n",
    "    humidity,\n",
    "    test_size=0.2)"
   ]
  },
  {
   "cell_type": "code",
   "execution_count": 29,
   "metadata": {},
   "outputs": [
    {
     "data": {
      "text/plain": [
       "LinearRegression()"
      ]
     },
     "execution_count": 29,
     "metadata": {},
     "output_type": "execute_result"
    }
   ],
   "source": [
    "LineReg.fit(X_train,y_train)"
   ]
  },
  {
   "cell_type": "code",
   "execution_count": 30,
   "metadata": {},
   "outputs": [
    {
     "name": "stdout",
     "output_type": "stream",
     "text": [
      "319.1704335382963\n",
      "13.97415086162155\n"
     ]
    }
   ],
   "source": [
    "from sklearn.metrics import mean_squared_error, mean_absolute_error\n",
    "predicted_y = LineReg.predict(X_test)\n",
    "\n",
    "print(mean_squared_error(predicted_y, y_test))\n",
    "print(mean_absolute_error(predicted_y, y_test))"
   ]
  },
  {
   "cell_type": "code",
   "execution_count": 31,
   "metadata": {},
   "outputs": [
    {
     "data": {
      "image/png": "[encoded data removed]",
      "text/plain": [
       "<Figure size 432x288 with 1 Axes>"
      ]
     },
     "metadata": {
      "needs_background": "light"
     },
     "output_type": "display_data"
    }
   ],
   "source": [
    "fig, ax = plt.subplots()\n",
    "plt.xlabel('Rainfall')\n",
    "plt.ylabel('Humidity')\n",
    "\n",
    "ax.scatter(X_train, y_train)\n",
    "ax.plot(X_test, y_test, 'go')\n",
    "\n",
    "ax.set_title('LinearRegression')\n",
    "ax.legend(['Train','Test'])\n",
    "plt.show()"
   ]
  },
  {
   "cell_type": "code",
   "execution_count": 32,
   "metadata": {},
   "outputs": [
    {
     "name": "stdout",
     "output_type": "stream",
     "text": [
      "MinTemp          0\n",
      "MaxTemp          0\n",
      "Rainfall         0\n",
      "Evaporation      0\n",
      "Sunshine         0\n",
      "WindGustDir      0\n",
      "WindGustSpeed    0\n",
      "WindDir9am       0\n",
      "WindDir3pm       0\n",
      "WindSpeed9am     0\n",
      "WindSpeed3pm     0\n",
      "Humidity9am      0\n",
      "Humidity3pm      0\n",
      "Pressure9am      0\n",
      "Pressure3pm      0\n",
      "Cloud9am         0\n",
      "Cloud3pm         0\n",
      "Temp9am          0\n",
      "Temp3pm          0\n",
      "RainToday        0\n",
      "RainTomorrow     0\n",
      "dtype: int64\n"
     ]
    },
    {
     "data": {
      "text/html": [
       "<div>\n",
       "<style scoped>\n",
       "    .dataframe tbody tr th:only-of-type {\n",
       "        vertical-align: middle;\n",
       "    }\n",
       "\n",
       "    .dataframe tbody tr th {\n",
       "        vertical-align: top;\n",
       "    }\n",
       "\n",
       "    .dataframe thead th {\n",
       "        text-align: right;\n",
       "    }\n",
       "</style>\n",
       "<table border=\"1\" class=\"dataframe\">\n",
       "  <thead>\n",
       "    <tr style=\"text-align: right;\">\n",
       "      <th></th>\n",
       "      <th>MinTemp</th>\n",
       "      <th>MaxTemp</th>\n",
       "      <th>Rainfall</th>\n",
       "      <th>Evaporation</th>\n",
       "      <th>Sunshine</th>\n",
       "      <th>WindGustDir</th>\n",
       "      <th>WindGustSpeed</th>\n",
       "      <th>WindDir9am</th>\n",
       "      <th>WindDir3pm</th>\n",
       "      <th>WindSpeed9am</th>\n",
       "      <th>...</th>\n",
       "      <th>Humidity9am</th>\n",
       "      <th>Humidity3pm</th>\n",
       "      <th>Pressure9am</th>\n",
       "      <th>Pressure3pm</th>\n",
       "      <th>Cloud9am</th>\n",
       "      <th>Cloud3pm</th>\n",
       "      <th>Temp9am</th>\n",
       "      <th>Temp3pm</th>\n",
       "      <th>RainToday</th>\n",
       "      <th>RainTomorrow</th>\n",
       "    </tr>\n",
       "  </thead>\n",
       "  <tbody>\n",
       "    <tr>\n",
       "      <th>6049</th>\n",
       "      <td>17.9</td>\n",
       "      <td>35.2</td>\n",
       "      <td>0.0</td>\n",
       "      <td>12.0</td>\n",
       "      <td>12.3</td>\n",
       "      <td>SSW</td>\n",
       "      <td>48.0</td>\n",
       "      <td>ENE</td>\n",
       "      <td>SW</td>\n",
       "      <td>6.0</td>\n",
       "      <td>...</td>\n",
       "      <td>20.0</td>\n",
       "      <td>13.0</td>\n",
       "      <td>1006.3</td>\n",
       "      <td>1004.4</td>\n",
       "      <td>2.0</td>\n",
       "      <td>5.0</td>\n",
       "      <td>26.6</td>\n",
       "      <td>33.4</td>\n",
       "      <td>No</td>\n",
       "      <td>No</td>\n",
       "    </tr>\n",
       "    <tr>\n",
       "      <th>6050</th>\n",
       "      <td>18.4</td>\n",
       "      <td>28.9</td>\n",
       "      <td>0.0</td>\n",
       "      <td>14.8</td>\n",
       "      <td>13.0</td>\n",
       "      <td>S</td>\n",
       "      <td>37.0</td>\n",
       "      <td>SSE</td>\n",
       "      <td>SSE</td>\n",
       "      <td>19.0</td>\n",
       "      <td>...</td>\n",
       "      <td>30.0</td>\n",
       "      <td>8.0</td>\n",
       "      <td>1012.9</td>\n",
       "      <td>1012.1</td>\n",
       "      <td>1.0</td>\n",
       "      <td>1.0</td>\n",
       "      <td>20.3</td>\n",
       "      <td>27.0</td>\n",
       "      <td>No</td>\n",
       "      <td>No</td>\n",
       "    </tr>\n",
       "    <tr>\n",
       "      <th>6052</th>\n",
       "      <td>19.4</td>\n",
       "      <td>37.6</td>\n",
       "      <td>0.0</td>\n",
       "      <td>10.8</td>\n",
       "      <td>10.6</td>\n",
       "      <td>NNE</td>\n",
       "      <td>46.0</td>\n",
       "      <td>NNE</td>\n",
       "      <td>NNW</td>\n",
       "      <td>30.0</td>\n",
       "      <td>...</td>\n",
       "      <td>42.0</td>\n",
       "      <td>22.0</td>\n",
       "      <td>1012.3</td>\n",
       "      <td>1009.2</td>\n",
       "      <td>1.0</td>\n",
       "      <td>6.0</td>\n",
       "      <td>28.7</td>\n",
       "      <td>34.9</td>\n",
       "      <td>No</td>\n",
       "      <td>No</td>\n",
       "    </tr>\n",
       "    <tr>\n",
       "      <th>6053</th>\n",
       "      <td>21.9</td>\n",
       "      <td>38.4</td>\n",
       "      <td>0.0</td>\n",
       "      <td>11.4</td>\n",
       "      <td>12.2</td>\n",
       "      <td>WNW</td>\n",
       "      <td>31.0</td>\n",
       "      <td>WNW</td>\n",
       "      <td>WSW</td>\n",
       "      <td>6.0</td>\n",
       "      <td>...</td>\n",
       "      <td>37.0</td>\n",
       "      <td>22.0</td>\n",
       "      <td>1012.7</td>\n",
       "      <td>1009.1</td>\n",
       "      <td>1.0</td>\n",
       "      <td>5.0</td>\n",
       "      <td>29.1</td>\n",
       "      <td>35.6</td>\n",
       "      <td>No</td>\n",
       "      <td>No</td>\n",
       "    </tr>\n",
       "    <tr>\n",
       "      <th>6054</th>\n",
       "      <td>24.2</td>\n",
       "      <td>41.0</td>\n",
       "      <td>0.0</td>\n",
       "      <td>11.2</td>\n",
       "      <td>8.4</td>\n",
       "      <td>WNW</td>\n",
       "      <td>35.0</td>\n",
       "      <td>NW</td>\n",
       "      <td>WNW</td>\n",
       "      <td>17.0</td>\n",
       "      <td>...</td>\n",
       "      <td>19.0</td>\n",
       "      <td>15.0</td>\n",
       "      <td>1010.7</td>\n",
       "      <td>1007.4</td>\n",
       "      <td>1.0</td>\n",
       "      <td>6.0</td>\n",
       "      <td>33.6</td>\n",
       "      <td>37.6</td>\n",
       "      <td>No</td>\n",
       "      <td>No</td>\n",
       "    </tr>\n",
       "  </tbody>\n",
       "</table>\n",
       "<p>5 rows × 21 columns</p>\n",
       "</div>"
      ],
      "text/plain": [
       "      MinTemp  MaxTemp  Rainfall  Evaporation  Sunshine WindGustDir  \\\n",
       "6049     17.9     35.2       0.0         12.0      12.3         SSW   \n",
       "6050     18.4     28.9       0.0         14.8      13.0           S   \n",
       "6052     19.4     37.6       0.0         10.8      10.6         NNE   \n",
       "6053     21.9     38.4       0.0         11.4      12.2         WNW   \n",
       "6054     24.2     41.0       0.0         11.2       8.4         WNW   \n",
       "\n",
       "      WindGustSpeed WindDir9am WindDir3pm  WindSpeed9am  ...  Humidity9am  \\\n",
       "6049           48.0        ENE         SW           6.0  ...         20.0   \n",
       "6050           37.0        SSE        SSE          19.0  ...         30.0   \n",
       "6052           46.0        NNE        NNW          30.0  ...         42.0   \n",
       "6053           31.0        WNW        WSW           6.0  ...         37.0   \n",
       "6054           35.0         NW        WNW          17.0  ...         19.0   \n",
       "\n",
       "      Humidity3pm  Pressure9am  Pressure3pm  Cloud9am  Cloud3pm  Temp9am  \\\n",
       "6049         13.0       1006.3       1004.4       2.0       5.0     26.6   \n",
       "6050          8.0       1012.9       1012.1       1.0       1.0     20.3   \n",
       "6052         22.0       1012.3       1009.2       1.0       6.0     28.7   \n",
       "6053         22.0       1012.7       1009.1       1.0       5.0     29.1   \n",
       "6054         15.0       1010.7       1007.4       1.0       6.0     33.6   \n",
       "\n",
       "      Temp3pm  RainToday RainTomorrow  \n",
       "6049     33.4         No           No  \n",
       "6050     27.0         No           No  \n",
       "6052     34.9         No           No  \n",
       "6053     35.6         No           No  \n",
       "6054     37.6         No           No  \n",
       "\n",
       "[5 rows x 21 columns]"
      ]
     },
     "execution_count": 32,
     "metadata": {},
     "output_type": "execute_result"
    }
   ],
   "source": [
    "test_df = df.drop(['Date','Location'],axis=1)\n",
    "print(test_df.isna().sum())\n",
    "test_df.head()"
   ]
  },
  {
   "cell_type": "code",
   "execution_count": 33,
   "metadata": {},
   "outputs": [
    {
     "data": {
      "text/plain": [
       "MinTemp          0\n",
       "MaxTemp          0\n",
       "Rainfall         0\n",
       "Evaporation      0\n",
       "Sunshine         0\n",
       "WindGustDir      0\n",
       "WindGustSpeed    0\n",
       "WindDir9am       0\n",
       "WindDir3pm       0\n",
       "WindSpeed9am     0\n",
       "WindSpeed3pm     0\n",
       "Humidity9am      0\n",
       "Humidity3pm      0\n",
       "Pressure9am      0\n",
       "Pressure3pm      0\n",
       "Cloud9am         0\n",
       "Cloud3pm         0\n",
       "Temp9am          0\n",
       "Temp3pm          0\n",
       "RainToday        0\n",
       "RainTomorrow     0\n",
       "dtype: int64"
      ]
     },
     "execution_count": 33,
     "metadata": {},
     "output_type": "execute_result"
    }
   ],
   "source": [
    "# filling missing values with mode of the columns in values\n",
    "s = (test_df.dtypes == 'object')\n",
    "category_cols = list(s[s].index)\n",
    "\n",
    "for obj in category_cols:\n",
    "    test_df[obj].fillna(test_df[obj].mode, inplace=True)\n",
    "\n",
    "\n",
    "# filling missing values with median of the colunms in values\n",
    "n = (test_df.dtypes == 'float64')\n",
    "numeric_cols = list(n[n].index) \n",
    "\n",
    "for flt in numeric_cols:\n",
    "    test_df[flt].fillna(test_df[flt].median(), inplace=True)\n",
    "    \n",
    "test_df.isna().sum()"
   ]
  },
  {
   "cell_type": "code",
   "execution_count": 34,
   "metadata": {},
   "outputs": [
    {
     "data": {
      "text/html": [
       "<div>\n",
       "<style scoped>\n",
       "    .dataframe tbody tr th:only-of-type {\n",
       "        vertical-align: middle;\n",
       "    }\n",
       "\n",
       "    .dataframe tbody tr th {\n",
       "        vertical-align: top;\n",
       "    }\n",
       "\n",
       "    .dataframe thead th {\n",
       "        text-align: right;\n",
       "    }\n",
       "</style>\n",
       "<table border=\"1\" class=\"dataframe\">\n",
       "  <thead>\n",
       "    <tr style=\"text-align: right;\">\n",
       "      <th></th>\n",
       "      <th>MinTemp</th>\n",
       "      <th>MaxTemp</th>\n",
       "      <th>Rainfall</th>\n",
       "      <th>Evaporation</th>\n",
       "      <th>Sunshine</th>\n",
       "      <th>WindGustDir</th>\n",
       "      <th>WindGustSpeed</th>\n",
       "      <th>WindDir9am</th>\n",
       "      <th>WindDir3pm</th>\n",
       "      <th>WindSpeed9am</th>\n",
       "      <th>...</th>\n",
       "      <th>Humidity9am</th>\n",
       "      <th>Humidity3pm</th>\n",
       "      <th>Pressure9am</th>\n",
       "      <th>Pressure3pm</th>\n",
       "      <th>Cloud9am</th>\n",
       "      <th>Cloud3pm</th>\n",
       "      <th>Temp9am</th>\n",
       "      <th>Temp3pm</th>\n",
       "      <th>RainToday</th>\n",
       "      <th>RainTomorrow</th>\n",
       "    </tr>\n",
       "  </thead>\n",
       "  <tbody>\n",
       "    <tr>\n",
       "      <th>6049</th>\n",
       "      <td>17.9</td>\n",
       "      <td>35.2</td>\n",
       "      <td>0.0</td>\n",
       "      <td>12.0</td>\n",
       "      <td>12.3</td>\n",
       "      <td>SSW</td>\n",
       "      <td>48.0</td>\n",
       "      <td>ENE</td>\n",
       "      <td>SW</td>\n",
       "      <td>6.0</td>\n",
       "      <td>...</td>\n",
       "      <td>20.0</td>\n",
       "      <td>13.0</td>\n",
       "      <td>1006.3</td>\n",
       "      <td>1004.4</td>\n",
       "      <td>2.0</td>\n",
       "      <td>5.0</td>\n",
       "      <td>26.6</td>\n",
       "      <td>33.4</td>\n",
       "      <td>0</td>\n",
       "      <td>0</td>\n",
       "    </tr>\n",
       "    <tr>\n",
       "      <th>6050</th>\n",
       "      <td>18.4</td>\n",
       "      <td>28.9</td>\n",
       "      <td>0.0</td>\n",
       "      <td>14.8</td>\n",
       "      <td>13.0</td>\n",
       "      <td>S</td>\n",
       "      <td>37.0</td>\n",
       "      <td>SSE</td>\n",
       "      <td>SSE</td>\n",
       "      <td>19.0</td>\n",
       "      <td>...</td>\n",
       "      <td>30.0</td>\n",
       "      <td>8.0</td>\n",
       "      <td>1012.9</td>\n",
       "      <td>1012.1</td>\n",
       "      <td>1.0</td>\n",
       "      <td>1.0</td>\n",
       "      <td>20.3</td>\n",
       "      <td>27.0</td>\n",
       "      <td>0</td>\n",
       "      <td>0</td>\n",
       "    </tr>\n",
       "    <tr>\n",
       "      <th>6052</th>\n",
       "      <td>19.4</td>\n",
       "      <td>37.6</td>\n",
       "      <td>0.0</td>\n",
       "      <td>10.8</td>\n",
       "      <td>10.6</td>\n",
       "      <td>NNE</td>\n",
       "      <td>46.0</td>\n",
       "      <td>NNE</td>\n",
       "      <td>NNW</td>\n",
       "      <td>30.0</td>\n",
       "      <td>...</td>\n",
       "      <td>42.0</td>\n",
       "      <td>22.0</td>\n",
       "      <td>1012.3</td>\n",
       "      <td>1009.2</td>\n",
       "      <td>1.0</td>\n",
       "      <td>6.0</td>\n",
       "      <td>28.7</td>\n",
       "      <td>34.9</td>\n",
       "      <td>0</td>\n",
       "      <td>0</td>\n",
       "    </tr>\n",
       "    <tr>\n",
       "      <th>6053</th>\n",
       "      <td>21.9</td>\n",
       "      <td>38.4</td>\n",
       "      <td>0.0</td>\n",
       "      <td>11.4</td>\n",
       "      <td>12.2</td>\n",
       "      <td>WNW</td>\n",
       "      <td>31.0</td>\n",
       "      <td>WNW</td>\n",
       "      <td>WSW</td>\n",
       "      <td>6.0</td>\n",
       "      <td>...</td>\n",
       "      <td>37.0</td>\n",
       "      <td>22.0</td>\n",
       "      <td>1012.7</td>\n",
       "      <td>1009.1</td>\n",
       "      <td>1.0</td>\n",
       "      <td>5.0</td>\n",
       "      <td>29.1</td>\n",
       "      <td>35.6</td>\n",
       "      <td>0</td>\n",
       "      <td>0</td>\n",
       "    </tr>\n",
       "    <tr>\n",
       "      <th>6054</th>\n",
       "      <td>24.2</td>\n",
       "      <td>41.0</td>\n",
       "      <td>0.0</td>\n",
       "      <td>11.2</td>\n",
       "      <td>8.4</td>\n",
       "      <td>WNW</td>\n",
       "      <td>35.0</td>\n",
       "      <td>NW</td>\n",
       "      <td>WNW</td>\n",
       "      <td>17.0</td>\n",
       "      <td>...</td>\n",
       "      <td>19.0</td>\n",
       "      <td>15.0</td>\n",
       "      <td>1010.7</td>\n",
       "      <td>1007.4</td>\n",
       "      <td>1.0</td>\n",
       "      <td>6.0</td>\n",
       "      <td>33.6</td>\n",
       "      <td>37.6</td>\n",
       "      <td>0</td>\n",
       "      <td>0</td>\n",
       "    </tr>\n",
       "  </tbody>\n",
       "</table>\n",
       "<p>5 rows × 21 columns</p>\n",
       "</div>"
      ],
      "text/plain": [
       "      MinTemp  MaxTemp  Rainfall  Evaporation  Sunshine WindGustDir  \\\n",
       "6049     17.9     35.2       0.0         12.0      12.3         SSW   \n",
       "6050     18.4     28.9       0.0         14.8      13.0           S   \n",
       "6052     19.4     37.6       0.0         10.8      10.6         NNE   \n",
       "6053     21.9     38.4       0.0         11.4      12.2         WNW   \n",
       "6054     24.2     41.0       0.0         11.2       8.4         WNW   \n",
       "\n",
       "      WindGustSpeed WindDir9am WindDir3pm  WindSpeed9am  ...  Humidity9am  \\\n",
       "6049           48.0        ENE         SW           6.0  ...         20.0   \n",
       "6050           37.0        SSE        SSE          19.0  ...         30.0   \n",
       "6052           46.0        NNE        NNW          30.0  ...         42.0   \n",
       "6053           31.0        WNW        WSW           6.0  ...         37.0   \n",
       "6054           35.0         NW        WNW          17.0  ...         19.0   \n",
       "\n",
       "      Humidity3pm  Pressure9am  Pressure3pm  Cloud9am  Cloud3pm  Temp9am  \\\n",
       "6049         13.0       1006.3       1004.4       2.0       5.0     26.6   \n",
       "6050          8.0       1012.9       1012.1       1.0       1.0     20.3   \n",
       "6052         22.0       1012.3       1009.2       1.0       6.0     28.7   \n",
       "6053         22.0       1012.7       1009.1       1.0       5.0     29.1   \n",
       "6054         15.0       1010.7       1007.4       1.0       6.0     33.6   \n",
       "\n",
       "      Temp3pm  RainToday  RainTomorrow  \n",
       "6049     33.4          0             0  \n",
       "6050     27.0          0             0  \n",
       "6052     34.9          0             0  \n",
       "6053     35.6          0             0  \n",
       "6054     37.6          0             0  \n",
       "\n",
       "[5 rows x 21 columns]"
      ]
     },
     "execution_count": 34,
     "metadata": {},
     "output_type": "execute_result"
    }
   ],
   "source": [
    "def replace_binom(row):\n",
    "    if row == 'No':\n",
    "        return 0\n",
    "    else:\n",
    "        return 1\n",
    "    \n",
    "test_df.RainToday = test_df.RainToday.apply(replace_binom)\n",
    "test_df.RainTomorrow = test_df.RainTomorrow.apply(replace_binom)\n",
    "test_df.head()"
   ]
  },
  {
   "cell_type": "code",
   "execution_count": 35,
   "metadata": {},
   "outputs": [
    {
     "data": {
      "text/plain": [
       "Index(['WindGustDir', 'WindDir9am', 'WindDir3pm'], dtype='object')"
      ]
     },
     "execution_count": 35,
     "metadata": {},
     "output_type": "execute_result"
    }
   ],
   "source": [
    "ordinal = test_df.iloc[:,[5,7,8]]\n",
    "# label = df.dropna().iloc[:,1]\n",
    "ordinal.columns"
   ]
  },
  {
   "cell_type": "code",
   "execution_count": 36,
   "metadata": {},
   "outputs": [
    {
     "name": "stderr",
     "output_type": "stream",
     "text": [
      "/Library/Frameworks/Python.framework/Versions/3.8/lib/python3.8/site-packages/category_encoders/utils.py:21: FutureWarning: is_categorical is deprecated and will be removed in a future version.  Use is_categorical_dtype instead\n",
      "  elif pd.api.types.is_categorical(cols):\n"
     ]
    }
   ],
   "source": [
    "import category_encoders as ce\n",
    "ce_ord = ce.OrdinalEncoder(cols=['WindGustDir', 'WindDir9am', 'WindDir3pm'])\n",
    "ordinal = ce_ord.fit_transform(ordinal)"
   ]
  },
  {
   "cell_type": "code",
   "execution_count": 37,
   "metadata": {},
   "outputs": [],
   "source": [
    "# ce_one = ce.OneHotEncoder()\n",
    "# label = ce_one.fit_transform(label)"
   ]
  },
  {
   "cell_type": "code",
   "execution_count": 38,
   "metadata": {},
   "outputs": [
    {
     "data": {
      "text/html": [
       "<div>\n",
       "<style scoped>\n",
       "    .dataframe tbody tr th:only-of-type {\n",
       "        vertical-align: middle;\n",
       "    }\n",
       "\n",
       "    .dataframe tbody tr th {\n",
       "        vertical-align: top;\n",
       "    }\n",
       "\n",
       "    .dataframe thead th {\n",
       "        text-align: right;\n",
       "    }\n",
       "</style>\n",
       "<table border=\"1\" class=\"dataframe\">\n",
       "  <thead>\n",
       "    <tr style=\"text-align: right;\">\n",
       "      <th></th>\n",
       "      <th>MinTemp</th>\n",
       "      <th>MaxTemp</th>\n",
       "      <th>Rainfall</th>\n",
       "      <th>Evaporation</th>\n",
       "      <th>Sunshine</th>\n",
       "      <th>WindGustDir</th>\n",
       "      <th>WindGustSpeed</th>\n",
       "      <th>WindDir9am</th>\n",
       "      <th>WindDir3pm</th>\n",
       "      <th>WindSpeed9am</th>\n",
       "      <th>...</th>\n",
       "      <th>Humidity9am</th>\n",
       "      <th>Humidity3pm</th>\n",
       "      <th>Pressure9am</th>\n",
       "      <th>Pressure3pm</th>\n",
       "      <th>Cloud9am</th>\n",
       "      <th>Cloud3pm</th>\n",
       "      <th>Temp9am</th>\n",
       "      <th>Temp3pm</th>\n",
       "      <th>RainToday</th>\n",
       "      <th>RainTomorrow</th>\n",
       "    </tr>\n",
       "  </thead>\n",
       "  <tbody>\n",
       "    <tr>\n",
       "      <th>6049</th>\n",
       "      <td>17.9</td>\n",
       "      <td>35.2</td>\n",
       "      <td>0.0</td>\n",
       "      <td>12.0</td>\n",
       "      <td>12.3</td>\n",
       "      <td>1</td>\n",
       "      <td>48.0</td>\n",
       "      <td>1</td>\n",
       "      <td>1</td>\n",
       "      <td>6.0</td>\n",
       "      <td>...</td>\n",
       "      <td>20.0</td>\n",
       "      <td>13.0</td>\n",
       "      <td>1006.3</td>\n",
       "      <td>1004.4</td>\n",
       "      <td>2.0</td>\n",
       "      <td>5.0</td>\n",
       "      <td>26.6</td>\n",
       "      <td>33.4</td>\n",
       "      <td>0</td>\n",
       "      <td>0</td>\n",
       "    </tr>\n",
       "    <tr>\n",
       "      <th>6050</th>\n",
       "      <td>18.4</td>\n",
       "      <td>28.9</td>\n",
       "      <td>0.0</td>\n",
       "      <td>14.8</td>\n",
       "      <td>13.0</td>\n",
       "      <td>2</td>\n",
       "      <td>37.0</td>\n",
       "      <td>2</td>\n",
       "      <td>2</td>\n",
       "      <td>19.0</td>\n",
       "      <td>...</td>\n",
       "      <td>30.0</td>\n",
       "      <td>8.0</td>\n",
       "      <td>1012.9</td>\n",
       "      <td>1012.1</td>\n",
       "      <td>1.0</td>\n",
       "      <td>1.0</td>\n",
       "      <td>20.3</td>\n",
       "      <td>27.0</td>\n",
       "      <td>0</td>\n",
       "      <td>0</td>\n",
       "    </tr>\n",
       "    <tr>\n",
       "      <th>6052</th>\n",
       "      <td>19.4</td>\n",
       "      <td>37.6</td>\n",
       "      <td>0.0</td>\n",
       "      <td>10.8</td>\n",
       "      <td>10.6</td>\n",
       "      <td>3</td>\n",
       "      <td>46.0</td>\n",
       "      <td>3</td>\n",
       "      <td>3</td>\n",
       "      <td>30.0</td>\n",
       "      <td>...</td>\n",
       "      <td>42.0</td>\n",
       "      <td>22.0</td>\n",
       "      <td>1012.3</td>\n",
       "      <td>1009.2</td>\n",
       "      <td>1.0</td>\n",
       "      <td>6.0</td>\n",
       "      <td>28.7</td>\n",
       "      <td>34.9</td>\n",
       "      <td>0</td>\n",
       "      <td>0</td>\n",
       "    </tr>\n",
       "    <tr>\n",
       "      <th>6053</th>\n",
       "      <td>21.9</td>\n",
       "      <td>38.4</td>\n",
       "      <td>0.0</td>\n",
       "      <td>11.4</td>\n",
       "      <td>12.2</td>\n",
       "      <td>4</td>\n",
       "      <td>31.0</td>\n",
       "      <td>4</td>\n",
       "      <td>4</td>\n",
       "      <td>6.0</td>\n",
       "      <td>...</td>\n",
       "      <td>37.0</td>\n",
       "      <td>22.0</td>\n",
       "      <td>1012.7</td>\n",
       "      <td>1009.1</td>\n",
       "      <td>1.0</td>\n",
       "      <td>5.0</td>\n",
       "      <td>29.1</td>\n",
       "      <td>35.6</td>\n",
       "      <td>0</td>\n",
       "      <td>0</td>\n",
       "    </tr>\n",
       "    <tr>\n",
       "      <th>6054</th>\n",
       "      <td>24.2</td>\n",
       "      <td>41.0</td>\n",
       "      <td>0.0</td>\n",
       "      <td>11.2</td>\n",
       "      <td>8.4</td>\n",
       "      <td>4</td>\n",
       "      <td>35.0</td>\n",
       "      <td>5</td>\n",
       "      <td>5</td>\n",
       "      <td>17.0</td>\n",
       "      <td>...</td>\n",
       "      <td>19.0</td>\n",
       "      <td>15.0</td>\n",
       "      <td>1010.7</td>\n",
       "      <td>1007.4</td>\n",
       "      <td>1.0</td>\n",
       "      <td>6.0</td>\n",
       "      <td>33.6</td>\n",
       "      <td>37.6</td>\n",
       "      <td>0</td>\n",
       "      <td>0</td>\n",
       "    </tr>\n",
       "    <tr>\n",
       "      <th>...</th>\n",
       "      <td>...</td>\n",
       "      <td>...</td>\n",
       "      <td>...</td>\n",
       "      <td>...</td>\n",
       "      <td>...</td>\n",
       "      <td>...</td>\n",
       "      <td>...</td>\n",
       "      <td>...</td>\n",
       "      <td>...</td>\n",
       "      <td>...</td>\n",
       "      <td>...</td>\n",
       "      <td>...</td>\n",
       "      <td>...</td>\n",
       "      <td>...</td>\n",
       "      <td>...</td>\n",
       "      <td>...</td>\n",
       "      <td>...</td>\n",
       "      <td>...</td>\n",
       "      <td>...</td>\n",
       "      <td>...</td>\n",
       "      <td>...</td>\n",
       "    </tr>\n",
       "    <tr>\n",
       "      <th>142298</th>\n",
       "      <td>19.3</td>\n",
       "      <td>33.4</td>\n",
       "      <td>0.0</td>\n",
       "      <td>6.0</td>\n",
       "      <td>11.0</td>\n",
       "      <td>7</td>\n",
       "      <td>35.0</td>\n",
       "      <td>8</td>\n",
       "      <td>14</td>\n",
       "      <td>9.0</td>\n",
       "      <td>...</td>\n",
       "      <td>63.0</td>\n",
       "      <td>32.0</td>\n",
       "      <td>1013.9</td>\n",
       "      <td>1010.5</td>\n",
       "      <td>0.0</td>\n",
       "      <td>1.0</td>\n",
       "      <td>24.5</td>\n",
       "      <td>32.3</td>\n",
       "      <td>0</td>\n",
       "      <td>0</td>\n",
       "    </tr>\n",
       "    <tr>\n",
       "      <th>142299</th>\n",
       "      <td>21.2</td>\n",
       "      <td>32.6</td>\n",
       "      <td>0.0</td>\n",
       "      <td>7.6</td>\n",
       "      <td>8.6</td>\n",
       "      <td>9</td>\n",
       "      <td>37.0</td>\n",
       "      <td>8</td>\n",
       "      <td>9</td>\n",
       "      <td>13.0</td>\n",
       "      <td>...</td>\n",
       "      <td>56.0</td>\n",
       "      <td>28.0</td>\n",
       "      <td>1014.6</td>\n",
       "      <td>1011.2</td>\n",
       "      <td>7.0</td>\n",
       "      <td>0.0</td>\n",
       "      <td>24.8</td>\n",
       "      <td>32.0</td>\n",
       "      <td>0</td>\n",
       "      <td>0</td>\n",
       "    </tr>\n",
       "    <tr>\n",
       "      <th>142300</th>\n",
       "      <td>20.7</td>\n",
       "      <td>32.8</td>\n",
       "      <td>0.0</td>\n",
       "      <td>5.6</td>\n",
       "      <td>11.0</td>\n",
       "      <td>9</td>\n",
       "      <td>33.0</td>\n",
       "      <td>12</td>\n",
       "      <td>16</td>\n",
       "      <td>17.0</td>\n",
       "      <td>...</td>\n",
       "      <td>46.0</td>\n",
       "      <td>23.0</td>\n",
       "      <td>1015.3</td>\n",
       "      <td>1011.8</td>\n",
       "      <td>0.0</td>\n",
       "      <td>0.0</td>\n",
       "      <td>24.8</td>\n",
       "      <td>32.1</td>\n",
       "      <td>0</td>\n",
       "      <td>0</td>\n",
       "    </tr>\n",
       "    <tr>\n",
       "      <th>142301</th>\n",
       "      <td>19.5</td>\n",
       "      <td>31.8</td>\n",
       "      <td>0.0</td>\n",
       "      <td>6.2</td>\n",
       "      <td>10.6</td>\n",
       "      <td>14</td>\n",
       "      <td>26.0</td>\n",
       "      <td>8</td>\n",
       "      <td>3</td>\n",
       "      <td>9.0</td>\n",
       "      <td>...</td>\n",
       "      <td>62.0</td>\n",
       "      <td>58.0</td>\n",
       "      <td>1014.9</td>\n",
       "      <td>1010.7</td>\n",
       "      <td>1.0</td>\n",
       "      <td>1.0</td>\n",
       "      <td>24.8</td>\n",
       "      <td>29.2</td>\n",
       "      <td>0</td>\n",
       "      <td>0</td>\n",
       "    </tr>\n",
       "    <tr>\n",
       "      <th>142302</th>\n",
       "      <td>20.2</td>\n",
       "      <td>31.7</td>\n",
       "      <td>0.0</td>\n",
       "      <td>5.6</td>\n",
       "      <td>10.7</td>\n",
       "      <td>7</td>\n",
       "      <td>30.0</td>\n",
       "      <td>1</td>\n",
       "      <td>3</td>\n",
       "      <td>15.0</td>\n",
       "      <td>...</td>\n",
       "      <td>73.0</td>\n",
       "      <td>32.0</td>\n",
       "      <td>1013.9</td>\n",
       "      <td>1009.7</td>\n",
       "      <td>6.0</td>\n",
       "      <td>5.0</td>\n",
       "      <td>25.4</td>\n",
       "      <td>31.0</td>\n",
       "      <td>0</td>\n",
       "      <td>0</td>\n",
       "    </tr>\n",
       "  </tbody>\n",
       "</table>\n",
       "<p>56420 rows × 21 columns</p>\n",
       "</div>"
      ],
      "text/plain": [
       "        MinTemp  MaxTemp  Rainfall  Evaporation  Sunshine  WindGustDir  \\\n",
       "6049       17.9     35.2       0.0         12.0      12.3            1   \n",
       "6050       18.4     28.9       0.0         14.8      13.0            2   \n",
       "6052       19.4     37.6       0.0         10.8      10.6            3   \n",
       "6053       21.9     38.4       0.0         11.4      12.2            4   \n",
       "6054       24.2     41.0       0.0         11.2       8.4            4   \n",
       "...         ...      ...       ...          ...       ...          ...   \n",
       "142298     19.3     33.4       0.0          6.0      11.0            7   \n",
       "142299     21.2     32.6       0.0          7.6       8.6            9   \n",
       "142300     20.7     32.8       0.0          5.6      11.0            9   \n",
       "142301     19.5     31.8       0.0          6.2      10.6           14   \n",
       "142302     20.2     31.7       0.0          5.6      10.7            7   \n",
       "\n",
       "        WindGustSpeed  WindDir9am  WindDir3pm  WindSpeed9am  ...  Humidity9am  \\\n",
       "6049             48.0           1           1           6.0  ...         20.0   \n",
       "6050             37.0           2           2          19.0  ...         30.0   \n",
       "6052             46.0           3           3          30.0  ...         42.0   \n",
       "6053             31.0           4           4           6.0  ...         37.0   \n",
       "6054             35.0           5           5          17.0  ...         19.0   \n",
       "...               ...         ...         ...           ...  ...          ...   \n",
       "142298           35.0           8          14           9.0  ...         63.0   \n",
       "142299           37.0           8           9          13.0  ...         56.0   \n",
       "142300           33.0          12          16          17.0  ...         46.0   \n",
       "142301           26.0           8           3           9.0  ...         62.0   \n",
       "142302           30.0           1           3          15.0  ...         73.0   \n",
       "\n",
       "        Humidity3pm  Pressure9am  Pressure3pm  Cloud9am  Cloud3pm  Temp9am  \\\n",
       "6049           13.0       1006.3       1004.4       2.0       5.0     26.6   \n",
       "6050            8.0       1012.9       1012.1       1.0       1.0     20.3   \n",
       "6052           22.0       1012.3       1009.2       1.0       6.0     28.7   \n",
       "6053           22.0       1012.7       1009.1       1.0       5.0     29.1   \n",
       "6054           15.0       1010.7       1007.4       1.0       6.0     33.6   \n",
       "...             ...          ...          ...       ...       ...      ...   \n",
       "142298         32.0       1013.9       1010.5       0.0       1.0     24.5   \n",
       "142299         28.0       1014.6       1011.2       7.0       0.0     24.8   \n",
       "142300         23.0       1015.3       1011.8       0.0       0.0     24.8   \n",
       "142301         58.0       1014.9       1010.7       1.0       1.0     24.8   \n",
       "142302         32.0       1013.9       1009.7       6.0       5.0     25.4   \n",
       "\n",
       "        Temp3pm  RainToday  RainTomorrow  \n",
       "6049       33.4          0             0  \n",
       "6050       27.0          0             0  \n",
       "6052       34.9          0             0  \n",
       "6053       35.6          0             0  \n",
       "6054       37.6          0             0  \n",
       "...         ...        ...           ...  \n",
       "142298     32.3          0             0  \n",
       "142299     32.0          0             0  \n",
       "142300     32.1          0             0  \n",
       "142301     29.2          0             0  \n",
       "142302     31.0          0             0  \n",
       "\n",
       "[56420 rows x 21 columns]"
      ]
     },
     "execution_count": 38,
     "metadata": {},
     "output_type": "execute_result"
    }
   ],
   "source": [
    "test_df.iloc[:,[5,7,8]] = ordinal\n",
    "test_df"
   ]
  },
  {
   "cell_type": "code",
   "execution_count": 39,
   "metadata": {},
   "outputs": [],
   "source": [
    "y = test_df['RainTomorrow']\n",
    "X = test_df.drop('RainTomorrow', axis=1)"
   ]
  },
  {
   "cell_type": "code",
   "execution_count": 40,
   "metadata": {},
   "outputs": [],
   "source": [
    "from sklearn.model_selection import train_test_split\n",
    "X_train, X_test, y_train, y_test = train_test_split(X, y, test_size=0.3)"
   ]
  },
  {
   "cell_type": "code",
   "execution_count": 41,
   "metadata": {},
   "outputs": [
    {
     "ename": "NameError",
     "evalue": "name 'X_train_22' is not defined",
     "output_type": "error",
     "traceback": [
      "\u001b[0;31m---------------------------------------------------------------------------\u001b[0m",
      "\u001b[0;31mNameError\u001b[0m                                 Traceback (most recent call last)",
      "\u001b[0;32m<timed exec>\u001b[0m in \u001b[0;36m<module>\u001b[0;34m\u001b[0m\n",
      "\u001b[0;31mNameError\u001b[0m: name 'X_train_22' is not defined"
     ]
    }
   ],
   "source": [
    "%%time\n",
    "from sklearn.ensemble import RandomForestClassifier\n",
    "from sklearn.model_selection import GridSearchCV\n",
    "from sklearn.metrics import accuracy_score, classification_report\n",
    "\n",
    "# создаем модель деревья решений\n",
    "# выбираем 100 деревьев в качестве параметра\n",
    "model=RandomForestClassifier()\n",
    "params = {'max_features':''}\n",
    "\n",
    "# обучаем модель\n",
    "model.fit(X_train,y_train_22)"
   ]
  },
  {
   "cell_type": "code",
   "execution_count": 97,
   "metadata": {},
   "outputs": [
    {
     "data": {
      "text/plain": [
       "((101822, 20), (101822,), (43638, 20), (43638,))"
      ]
     },
     "execution_count": 97,
     "metadata": {},
     "output_type": "execute_result"
    }
   ],
   "source": [
    "X_train.shape, y_train.shape, X_test.shape, y_test.shape"
   ]
  },
  {
   "cell_type": "code",
   "execution_count": 98,
   "metadata": {},
   "outputs": [
    {
     "name": "stdout",
     "output_type": "stream",
     "text": [
      "0.9538017324350336\n",
      "              precision    recall  f1-score   support\n",
      "\n",
      "           0       0.96      0.98      0.97     33050\n",
      "           1       0.95      0.86      0.90     10588\n",
      "\n",
      "    accuracy                           0.95     43638\n",
      "   macro avg       0.95      0.92      0.93     43638\n",
      "weighted avg       0.95      0.95      0.95     43638\n",
      "\n",
      "CPU times: user 1.72 s, sys: 131 ms, total: 1.85 s\n",
      "Wall time: 2.02 s\n"
     ]
    }
   ],
   "source": [
    "%%time\n",
    "y_rf_pred = model.predict(X_test)\n",
    "print(accuracy_score(y_rf_pred, y_test))\n",
    "print(classification_report(y_test, y_rf_pred))"
   ]
  },
  {
   "cell_type": "markdown",
   "metadata": {},
   "source": [
    "## KNN\n"
   ]
  },
  {
   "cell_type": "code",
   "execution_count": 91,
   "metadata": {},
   "outputs": [
    {
     "data": {
      "text/plain": [
       "KNeighborsClassifier()"
      ]
     },
     "execution_count": 91,
     "metadata": {},
     "output_type": "execute_result"
    }
   ],
   "source": [
    "%%time\n",
    "from sklearn.neighbors import KNeighborsClassifier\n",
    "knn = KNeighborsClassifier()\n",
    "# knn_params = {'n_neighbors': range(1, 10, 1),\n",
    "#               'weights': ['uniform', 'distance'],\n",
    "#               'metric': [\n",
    "#     'euclidean', 'manhattan',\n",
    "#     'chebyshev', 'minkowski',\n",
    "# ],\n",
    "# }\n",
    "# knn_grid = GridSearchCV(knn, knn_params)\n",
    "knn.fit(X_train, y_train)"
   ]
  },
  {
   "cell_type": "code",
   "execution_count": 99,
   "metadata": {},
   "outputs": [
    {
     "name": "stdout",
     "output_type": "stream",
     "text": [
      "0.8191713644071681\n",
      "              precision    recall  f1-score   support\n",
      "\n",
      "           0       0.85      0.92      0.89     33050\n",
      "           1       0.67      0.50      0.57     10588\n",
      "\n",
      "    accuracy                           0.82     43638\n",
      "   macro avg       0.76      0.71      0.73     43638\n",
      "weighted avg       0.81      0.82      0.81     43638\n",
      "\n",
      "CPU times: user 1min 24s, sys: 1.04 s, total: 1min 25s\n",
      "Wall time: 1min 30s\n"
     ]
    }
   ],
   "source": [
    "%%time\n",
    "y_knn_pred = knn.predict(X_test)\n",
    "print(accuracy_score(y_knn_pred, y_test))\n",
    "print(classification_report(y_test, y_knn_pred))"
   ]
  },
  {
   "cell_type": "markdown",
   "metadata": {},
   "source": [
    "## Naive Bayes"
   ]
  },
  {
   "cell_type": "code",
   "execution_count": 100,
   "metadata": {},
   "outputs": [
    {
     "name": "stdout",
     "output_type": "stream",
     "text": [
      "CPU times: user 75.4 ms, sys: 79 ms, total: 154 ms\n",
      "Wall time: 257 ms\n"
     ]
    },
    {
     "data": {
      "text/plain": [
       "GaussianNB()"
      ]
     },
     "execution_count": 100,
     "metadata": {},
     "output_type": "execute_result"
    }
   ],
   "source": [
    "%%time\n",
    "from sklearn.naive_bayes import GaussianNB\n",
    "gnb = GaussianNB()\n",
    "gnb.fit(X_train, y_train)"
   ]
  },
  {
   "cell_type": "code",
   "execution_count": 101,
   "metadata": {},
   "outputs": [
    {
     "name": "stdout",
     "output_type": "stream",
     "text": [
      "0.7893808148861085\n",
      "              precision    recall  f1-score   support\n",
      "\n",
      "           0       0.87      0.85      0.86     33050\n",
      "           1       0.56      0.59      0.58     10588\n",
      "\n",
      "    accuracy                           0.79     43638\n",
      "   macro avg       0.71      0.72      0.72     43638\n",
      "weighted avg       0.79      0.79      0.79     43638\n",
      "\n",
      "CPU times: user 109 ms, sys: 40.9 ms, total: 150 ms\n",
      "Wall time: 212 ms\n"
     ]
    }
   ],
   "source": [
    "%%time\n",
    "y_gnb_pred = gnb.predict(X_test)\n",
    "print(accuracy_score(y_gnb_pred, y_test))\n",
    "print(classification_report(y_test, y_gnb_pred))"
   ]
  },
  {
   "cell_type": "markdown",
   "metadata": {},
   "source": [
    "## SVM"
   ]
  },
  {
   "cell_type": "code",
   "execution_count": 108,
   "metadata": {},
   "outputs": [
    {
     "name": "stdout",
     "output_type": "stream",
     "text": [
      "CPU times: user 6min 32s, sys: 2.96 s, total: 6min 35s\n",
      "Wall time: 6min 47s\n"
     ]
    },
    {
     "data": {
      "text/plain": [
       "SVC(random_state=46)"
      ]
     },
     "execution_count": 108,
     "metadata": {},
     "output_type": "execute_result"
    }
   ],
   "source": [
    "%%time\n",
    "from sklearn import svm\n",
    "sup_vec_met = svm.SVC(random_state=46)\n",
    "sup_vec_met.fit(X_train, y_train)"
   ]
  },
  {
   "cell_type": "code",
   "execution_count": 109,
   "metadata": {},
   "outputs": [
    {
     "name": "stdout",
     "output_type": "stream",
     "text": [
      "0.8178422475823823\n",
      "              precision    recall  f1-score   support\n",
      "\n",
      "           0       0.82      0.97      0.89     33050\n",
      "           1       0.77      0.35      0.49     10588\n",
      "\n",
      "    accuracy                           0.82     43638\n",
      "   macro avg       0.80      0.66      0.69     43638\n",
      "weighted avg       0.81      0.82      0.79     43638\n",
      "\n"
     ]
    }
   ],
   "source": [
    "y_svm_pred = sup_vec_met.predict(X_test)\n",
    "print(accuracy_score(y_svm_pred, y_test))\n",
    "print(classification_report(y_test, y_svm_pred))"
   ]
  },
  {
   "cell_type": "markdown",
   "metadata": {},
   "source": [
    "## XGBoost"
   ]
  },
  {
   "cell_type": "code",
   "execution_count": 111,
   "metadata": {},
   "outputs": [
    {
     "name": "stderr",
     "output_type": "stream",
     "text": [
      "/Library/Frameworks/Python.framework/Versions/3.8/lib/python3.8/site-packages/xgboost/sklearn.py:892: UserWarning: The use of label encoder in XGBClassifier is deprecated and will be removed in a future release. To remove this warning, do the following: 1) Pass option use_label_encoder=False when constructing XGBClassifier object; and 2) Encode your labels (y) as integers starting with 0, i.e. 0, 1, 2, ..., [num_class - 1].\n",
      "  warnings.warn(label_encoder_deprecation_msg, UserWarning)\n"
     ]
    },
    {
     "name": "stdout",
     "output_type": "stream",
     "text": [
      "[17:39:55] WARNING: /private/var/folders/23/kp8g5yhx05qf9fjrh9p898240000gn/T/pip-install-bgwdvot2/xgboost/build/temp.macosx-10.9-x86_64-3.8/xgboost/src/learner.cc:1061: Starting in XGBoost 1.3.0, the default evaluation metric used with the objective 'binary:logistic' was changed from 'error' to 'logloss'. Explicitly set eval_metric if you'd like to restore the old behavior.\n",
      "CPU times: user 38.6 s, sys: 779 ms, total: 39.4 s\n",
      "Wall time: 18 s\n"
     ]
    },
    {
     "data": {
      "text/plain": [
       "XGBClassifier(base_score=0.5, booster='gbtree', colsample_bylevel=1,\n",
       "              colsample_bynode=1, colsample_bytree=1, gamma=0, gpu_id=-1,\n",
       "              importance_type='gain', interaction_constraints='',\n",
       "              learning_rate=0.300000012, max_delta_step=0, max_depth=6,\n",
       "              min_child_weight=1, missing=nan, monotone_constraints='()',\n",
       "              n_estimators=100, n_jobs=4, num_parallel_tree=1, random_state=0,\n",
       "              reg_alpha=0, reg_lambda=1, scale_pos_weight=1, subsample=1,\n",
       "              tree_method='exact', validate_parameters=1, verbosity=None)"
      ]
     },
     "execution_count": 111,
     "metadata": {},
     "output_type": "execute_result"
    }
   ],
   "source": [
    "%%time\n",
    "import xgboost\n",
    "xgboost_classifier = xgboost.XGBClassifier()\n",
    "xgboost_classifier.fit(X_train, y_train)"
   ]
  },
  {
   "cell_type": "code",
   "execution_count": 112,
   "metadata": {},
   "outputs": [
    {
     "name": "stdout",
     "output_type": "stream",
     "text": [
      "0.8471057335349924\n",
      "              precision    recall  f1-score   support\n",
      "\n",
      "           0       0.87      0.94      0.90     33050\n",
      "           1       0.75      0.55      0.64     10588\n",
      "\n",
      "    accuracy                           0.85     43638\n",
      "   macro avg       0.81      0.75      0.77     43638\n",
      "weighted avg       0.84      0.85      0.84     43638\n",
      "\n"
     ]
    }
   ],
   "source": [
    "y_xgb_pred = xgboost_classifier.predict(X_test)\n",
    "print(accuracy_score(y_xgb_pred, y_test))\n",
    "print(classification_report(y_test, y_xgb_pred))"
   ]
  },
  {
   "cell_type": "markdown",
   "metadata": {},
   "source": []
  },
  {
   "cell_type": "code",
   "execution_count": null,
   "metadata": {},
   "outputs": [],
   "source": []
  },
  {
   "cell_type": "code",
   "execution_count": null,
   "metadata": {},
   "outputs": [],
   "source": []
  },
  {
   "cell_type": "code",
   "execution_count": 869,
   "metadata": {},
   "outputs": [
    {
     "name": "stderr",
     "output_type": "stream",
     "text": [
      "No handles with labels found to put in legend.\n"
     ]
    },
    {
     "data": {
      "image/png": "[encoded data removed]",
      "text/plain": [
       "<Figure size 432x432 with 1 Axes>"
      ]
     },
     "metadata": {
      "needs_background": "light"
     },
     "output_type": "display_data"
    }
   ],
   "source": [
    "headers = list(X_train_22.columns.values)\n",
    "\n",
    "feature_imp = pd.Series(model.feature_importances_,index=headers).sort_values(ascending=False)\n",
    "\n",
    "f, ax = plt.subplots(figsize=(6, 6))\n",
    "sns.barplot(x=feature_imp, y=feature_imp.index)\n",
    "\n",
    "plt.xlabel('Важность атрибутов')\n",
    "plt.ylabel('Атрибуты')\n",
    "plt.title(\"Наиболее важные атрибуты\")\n",
    "plt.legend()\n",
    "plt.show()"
   ]
  },
  {
   "cell_type": "code",
   "execution_count": 718,
   "metadata": {},
   "outputs": [
    {
     "name": "stdout",
     "output_type": "stream",
     "text": [
      "              precision    recall  f1-score   support\n",
      "\n",
      "           0       0.77      0.85      0.81     13098\n",
      "           1       0.22      0.15      0.18      3828\n",
      "\n",
      "    accuracy                           0.69     16926\n",
      "   macro avg       0.50      0.50      0.49     16926\n",
      "weighted avg       0.65      0.69      0.67     16926\n",
      "\n"
     ]
    },
    {
     "data": {
      "text/plain": [
       "0.8600968923549569"
      ]
     },
     "execution_count": 718,
     "metadata": {},
     "output_type": "execute_result"
    }
   ],
   "source": [
    "from sklearn.metrics import classification_report\n",
    "model_pred_of_base_1000 = model.predict(X_test_22)\n",
    "\n",
    "base_1000_report = classification_report(y_test_22, model_pred)\n",
    "\n",
    "print(base_1000_report)\n",
    "\n",
    "base_1000 = model.score(X_test_22, y_test_22)\n",
    "base_1000"
   ]
  },
  {
   "cell_type": "code",
   "execution_count": 870,
   "metadata": {},
   "outputs": [
    {
     "name": "stdout",
     "output_type": "stream",
     "text": [
      "              precision    recall  f1-score   support\n",
      "\n",
      "           0       0.86      0.95      0.90     33084\n",
      "           1       0.77      0.53      0.62     10554\n",
      "\n",
      "    accuracy                           0.85     43638\n",
      "   macro avg       0.81      0.74      0.76     43638\n",
      "weighted avg       0.84      0.85      0.84     43638\n",
      "\n"
     ]
    },
    {
     "data": {
      "text/plain": [
       "0.8463953435079518"
      ]
     },
     "execution_count": 870,
     "metadata": {},
     "output_type": "execute_result"
    }
   ],
   "source": [
    "model_pred_fill = model.predict(X_test_22)\n",
    "\n",
    "fill_100_report = classification_report(y_test_22, model_pred_fill)\n",
    "\n",
    "print(fill_100_report)\n",
    "\n",
    "fill_100 = model.score(X_test_22, y_test_22)\n",
    "fill_100"
   ]
  },
  {
   "cell_type": "code",
   "execution_count": null,
   "metadata": {},
   "outputs": [],
   "source": [
    "model_pred_of_base_100 = model.predict(X_test_22)\n",
    "\n",
    "base_100_report = classification_report(y_test_22, model_pred)\n",
    "\n",
    "print(base_100_report)\n",
    "\n",
    "base_100 = model.score(X_test_22, y_test_22)\n",
    "base_100"
   ]
  },
  {
   "cell_type": "markdown",
   "metadata": {},
   "source": [
    "# New approach"
   ]
  },
  {
   "cell_type": "code",
   "execution_count": 4,
   "metadata": {},
   "outputs": [
    {
     "data": {
      "image/png": "[encoded data removed]",
      "text/plain": [
       "<Figure size 1080x720 with 2 Axes>"
      ]
     },
     "metadata": {
      "needs_background": "light"
     },
     "output_type": "display_data"
    }
   ],
   "source": [
    "data = pd.read_csv('datasets/weatherAUS.csv')\n",
    "corr = data.corr()\n",
    "cmap = sns.diverging_palette(260,-10,s=50, l=75, n=6, as_cmap=True)\n",
    "\n",
    "ax, fig = plt.subplots(figsize=(15,10))\n",
    "sns.heatmap(corr,cmap=cmap, annot=True, square=False)\n",
    "plt.show()"
   ]
  },
  {
   "cell_type": "code",
   "execution_count": 13,
   "metadata": {},
   "outputs": [
    {
     "name": "stdout",
     "output_type": "stream",
     "text": [
      "49 --> 145460\n"
     ]
    }
   ],
   "source": [
    "data['Date'] = pd.to_datetime(data['Date'])\n",
    "data['year'] = data.Date.dt.year\n",
    "data['month'] = data.Date.dt.month\n",
    "data['day'] = data.Date.dt.day\n",
    "\n",
    "# далее мы переводим данные о времени в циклическую непрерывную функцию\n",
    "def encode(data, col, max_val):\n",
    "    data[col + '_sin'] = np.sin(2 * np.pi * data[col]/max_val)\n",
    "    data[col + '_cos'] = np.cos(2 * np.pi * data[col]/max_val)\n",
    "    return data\n",
    "\n",
    "data = encode(data, 'month', data.month.max())\n",
    "data = encode(data, 'day', data.day.max())\n",
    "print(f'{len(data.Location.unique())} --> {data.shape[0]}')"
   ]
  },
  {
   "cell_type": "code",
   "execution_count": 6,
   "metadata": {
    "scrolled": true
   },
   "outputs": [
    {
     "data": {
      "text/plain": [
       "Text(0.5, 0, 'Days In Year')"
      ]
     },
     "execution_count": 6,
     "metadata": {},
     "output_type": "execute_result"
    },
    {
     "data": {
      "image/png": "[encoded data removed]",
      "text/plain": [
       "<Figure size 432x288 with 1 Axes>"
      ]
     },
     "metadata": {
      "needs_background": "light"
     },
     "output_type": "display_data"
    }
   ],
   "source": [
    "#выберем 360 первых строчек, как приблизетельное значение года\n",
    "section = data[:360] \n",
    "tm = section[\"day\"].plot(color=\"#C2C4E2\")\n",
    "tm.set_title(\"Distribution Of Days Over Year\")\n",
    "tm.set_ylabel(\"Days In month\")\n",
    "tm.set_xlabel(\"Days In Year\")"
   ]
  },
  {
   "cell_type": "code",
   "execution_count": 7,
   "metadata": {},
   "outputs": [],
   "source": [
    "# Как и ожидалось, атрибут данных \"год\" повторяется. \n",
    "# Однако в этом случае истинная циклическая природа не представлена в непрерывном виде. \n",
    "# Разделение месяцев и дней на синус и косинус обеспечивает циклическую непрерывную функцию. \n",
    "# Это может быть использовано в качестве входных функций для ANN."
   ]
  },
  {
   "cell_type": "code",
   "execution_count": 8,
   "metadata": {},
   "outputs": [
    {
     "data": {
      "text/plain": [
       "Text(0.5, 0, 'Sine Encoded Months')"
      ]
     },
     "execution_count": 8,
     "metadata": {},
     "output_type": "execute_result"
    },
    {
     "data": {
      "image/png": "[encoded data removed]",
      "text/plain": [
       "<Figure size 432x288 with 1 Axes>"
      ]
     },
     "metadata": {
      "needs_background": "light"
     },
     "output_type": "display_data"
    }
   ],
   "source": [
    "cyclic_month = sns.scatterplot(x=\"month_sin\",y=\"month_cos\",data=data, color=\"#C2C4E2\")\n",
    "cyclic_month.set_title(\"Cyclic Encoding of Month\")\n",
    "cyclic_month.set_ylabel(\"Cosine Encoded Months\")\n",
    "cyclic_month.set_xlabel(\"Sine Encoded Months\")"
   ]
  },
  {
   "cell_type": "code",
   "execution_count": 9,
   "metadata": {},
   "outputs": [
    {
     "data": {
      "text/plain": [
       "Text(0.5, 0, 'Sine Encoded Days')"
      ]
     },
     "execution_count": 9,
     "metadata": {},
     "output_type": "execute_result"
    },
    {
     "data": {
      "image/png": "[encoded data removed]",
      "text/plain": [
       "<Figure size 432x288 with 1 Axes>"
      ]
     },
     "metadata": {
      "needs_background": "light"
     },
     "output_type": "display_data"
    }
   ],
   "source": [
    "cyclic_days = sns.scatterplot(x=\"day_sin\",y=\"day_cos\",data=data)\n",
    "cyclic_days.set_title(\"Cyclic Encoding of Days\")\n",
    "cyclic_days.set_ylabel(\"Cosine Encoding Days\")\n",
    "cyclic_days.set_xlabel(\"Sine Encoded Days\")"
   ]
  },
  {
   "cell_type": "markdown",
   "metadata": {},
   "source": [
    "Cleaning category data"
   ]
  },
  {
   "cell_type": "code",
   "execution_count": 10,
   "metadata": {},
   "outputs": [
    {
     "name": "stdout",
     "output_type": "stream",
     "text": [
      "Category columns: \n",
      " ['Location', 'WindGustDir', 'WindDir9am', 'WindDir3pm', 'RainToday', 'RainTomorrow']\n"
     ]
    }
   ],
   "source": [
    "s = (data.dtypes == 'object')\n",
    "category_cols = list(s[s].index)\n",
    "print('Category columns: \\n', category_cols)"
   ]
  },
  {
   "cell_type": "code",
   "execution_count": 181,
   "metadata": {},
   "outputs": [
    {
     "name": "stdout",
     "output_type": "stream",
     "text": [
      "Location - 0\n",
      "WindGustDir - 10326\n",
      "WindDir9am - 10566\n",
      "WindDir3pm - 4228\n",
      "RainToday - 3261\n",
      "RainTomorrow - 3267\n"
     ]
    }
   ],
   "source": [
    "# missing values in category variables\n",
    "for obj in category_cols:\n",
    "    print(obj,'-',data[obj].isna().sum())"
   ]
  },
  {
   "cell_type": "code",
   "execution_count": 182,
   "metadata": {},
   "outputs": [],
   "source": [
    "# filling missing values with mode of the columns in value\n",
    "for obj in category_cols:\n",
    "    data[obj].fillna(data[obj].mode()[0], inplace=True)"
   ]
  },
  {
   "cell_type": "markdown",
   "metadata": {},
   "source": [
    "Cleaning numeric data"
   ]
  },
  {
   "cell_type": "code",
   "execution_count": 183,
   "metadata": {},
   "outputs": [
    {
     "name": "stdout",
     "output_type": "stream",
     "text": [
      "Numeric columns: \n",
      " ['MinTemp', 'MaxTemp', 'Rainfall', 'Evaporation', 'Sunshine', 'WindGustSpeed', 'WindSpeed9am', 'WindSpeed3pm', 'Humidity9am', 'Humidity3pm', 'Pressure9am', 'Pressure3pm', 'Cloud9am', 'Cloud3pm', 'Temp9am', 'Temp3pm', 'month_sin', 'month_cos', 'day_sin', 'day_cos']\n"
     ]
    }
   ],
   "source": [
    "n = (data.dtypes == 'float64')\n",
    "numeric_cols = list(n[n].index) \n",
    "print('Numeric columns: \\n', numeric_cols)"
   ]
  },
  {
   "cell_type": "code",
   "execution_count": 184,
   "metadata": {},
   "outputs": [
    {
     "name": "stdout",
     "output_type": "stream",
     "text": [
      "MinTemp 1485\n",
      "MaxTemp 1261\n",
      "Rainfall 3261\n",
      "Evaporation 62790\n",
      "Sunshine 69835\n",
      "WindGustSpeed 10263\n",
      "WindSpeed9am 1767\n",
      "WindSpeed3pm 3062\n",
      "Humidity9am 2654\n",
      "Humidity3pm 4507\n",
      "Pressure9am 15065\n",
      "Pressure3pm 15028\n",
      "Cloud9am 55888\n",
      "Cloud3pm 59358\n",
      "Temp9am 1767\n",
      "Temp3pm 3609\n",
      "month_sin 0\n",
      "month_cos 0\n",
      "day_sin 0\n",
      "day_cos 0\n"
     ]
    }
   ],
   "source": [
    "for flt in numeric_cols:\n",
    "    print(flt,data[flt].isna().sum())"
   ]
  },
  {
   "cell_type": "code",
   "execution_count": 185,
   "metadata": {},
   "outputs": [
    {
     "data": {
      "text/plain": [
       "Date             0\n",
       "Location         0\n",
       "MinTemp          0\n",
       "MaxTemp          0\n",
       "Rainfall         0\n",
       "Evaporation      0\n",
       "Sunshine         0\n",
       "WindGustDir      0\n",
       "WindGustSpeed    0\n",
       "WindDir9am       0\n",
       "WindDir3pm       0\n",
       "WindSpeed9am     0\n",
       "WindSpeed3pm     0\n",
       "Humidity9am      0\n",
       "Humidity3pm      0\n",
       "Pressure9am      0\n",
       "Pressure3pm      0\n",
       "Cloud9am         0\n",
       "Cloud3pm         0\n",
       "Temp9am          0\n",
       "Temp3pm          0\n",
       "RainToday        0\n",
       "RainTomorrow     0\n",
       "year             0\n",
       "month            0\n",
       "day              0\n",
       "month_sin        0\n",
       "month_cos        0\n",
       "day_sin          0\n",
       "day_cos          0\n",
       "dtype: int64"
      ]
     },
     "execution_count": 185,
     "metadata": {},
     "output_type": "execute_result"
    }
   ],
   "source": [
    "# filling missing values with median of the columns in values\n",
    "for flt in numeric_cols:\n",
    "    data[flt].fillna(data[flt].median(), inplace=True)\n",
    "    \n",
    "data.isna().sum()"
   ]
  },
  {
   "cell_type": "code",
   "execution_count": 186,
   "metadata": {},
   "outputs": [
    {
     "data": {
      "text/plain": [
       "Text(0.5, 0, 'Years')"
      ]
     },
     "execution_count": 186,
     "metadata": {},
     "output_type": "execute_result"
    },
    {
     "data": {
      "image/png": "[encoded data removed]",
      "text/plain": [
       "<Figure size 864x576 with 1 Axes>"
      ]
     },
     "metadata": {
      "needs_background": "light"
     },
     "output_type": "display_data"
    }
   ],
   "source": [
    "#plotting a lineplot rainfall over years\n",
    "plt.figure(figsize=(12,8))\n",
    "Time_series=sns.lineplot(x=data['Date'].dt.year,y=\"Rainfall\",data=data,color=\"#C2C4E2\")\n",
    "Time_series.set_title(\"Rainfall Over Years\")\n",
    "Time_series.set_ylabel(\"Rainfall\")\n",
    "Time_series.set_xlabel(\"Years\")"
   ]
  },
  {
   "cell_type": "code",
   "execution_count": 187,
   "metadata": {},
   "outputs": [
    {
     "data": {
      "text/plain": [
       "Text(0.5, 0, 'Year')"
      ]
     },
     "execution_count": 187,
     "metadata": {},
     "output_type": "execute_result"
    },
    {
     "data": {
      "image/png": "[encoded data removed]",
      "text/plain": [
       "<Figure size 864x576 with 1 Axes>"
      ]
     },
     "metadata": {
      "needs_background": "light"
     },
     "output_type": "display_data"
    }
   ],
   "source": [
    "#Evauating Wind gust speed over years\n",
    "colours = [\"#D0DBEE\", \"#C2C4E2\", \"#EED4E5\", \"#D1E6DC\", \"#BDE2E2\"]\n",
    "plt.figure(figsize=(12,8))\n",
    "Days_of_week=sns.barplot(x=data['Date'].dt.year,y=\"WindGustSpeed\",data=data, ci =None,palette = colours)\n",
    "Days_of_week.set_title(\"Wind Gust Speed Over Years\")\n",
    "Days_of_week.set_ylabel(\"WindGustSpeed\")\n",
    "Days_of_week.set_xlabel(\"Year\")"
   ]
  },
  {
   "cell_type": "markdown",
   "metadata": {},
   "source": [
    "Label encoding the categorical varable"
   ]
  },
  {
   "cell_type": "code",
   "execution_count": 188,
   "metadata": {},
   "outputs": [
    {
     "name": "stdout",
     "output_type": "stream",
     "text": [
      "<class 'pandas.core.frame.DataFrame'>\n",
      "RangeIndex: 145460 entries, 0 to 145459\n",
      "Data columns (total 30 columns):\n",
      " #   Column         Non-Null Count   Dtype         \n",
      "---  ------         --------------   -----         \n",
      " 0   Date           145460 non-null  datetime64[ns]\n",
      " 1   Location       145460 non-null  int64         \n",
      " 2   MinTemp        145460 non-null  float64       \n",
      " 3   MaxTemp        145460 non-null  float64       \n",
      " 4   Rainfall       145460 non-null  float64       \n",
      " 5   Evaporation    145460 non-null  float64       \n",
      " 6   Sunshine       145460 non-null  float64       \n",
      " 7   WindGustDir    145460 non-null  int64         \n",
      " 8   WindGustSpeed  145460 non-null  float64       \n",
      " 9   WindDir9am     145460 non-null  int64         \n",
      " 10  WindDir3pm     145460 non-null  int64         \n",
      " 11  WindSpeed9am   145460 non-null  float64       \n",
      " 12  WindSpeed3pm   145460 non-null  float64       \n",
      " 13  Humidity9am    145460 non-null  float64       \n",
      " 14  Humidity3pm    145460 non-null  float64       \n",
      " 15  Pressure9am    145460 non-null  float64       \n",
      " 16  Pressure3pm    145460 non-null  float64       \n",
      " 17  Cloud9am       145460 non-null  float64       \n",
      " 18  Cloud3pm       145460 non-null  float64       \n",
      " 19  Temp9am        145460 non-null  float64       \n",
      " 20  Temp3pm        145460 non-null  float64       \n",
      " 21  RainToday      145460 non-null  int64         \n",
      " 22  RainTomorrow   145460 non-null  int64         \n",
      " 23  year           145460 non-null  int64         \n",
      " 24  month          145460 non-null  int64         \n",
      " 25  day            145460 non-null  int64         \n",
      " 26  month_sin      145460 non-null  float64       \n",
      " 27  month_cos      145460 non-null  float64       \n",
      " 28  day_sin        145460 non-null  float64       \n",
      " 29  day_cos        145460 non-null  float64       \n",
      "dtypes: datetime64[ns](1), float64(20), int64(9)\n",
      "memory usage: 33.3 MB\n"
     ]
    }
   ],
   "source": [
    "label_encoder = LabelEncoder()\n",
    "for i in category_cols:\n",
    "    data[i] = label_encoder.fit_transform(data[i])\n",
    "\n",
    "data.info()"
   ]
  },
  {
   "cell_type": "code",
   "execution_count": 190,
   "metadata": {},
   "outputs": [
    {
     "data": {
      "text/html": [
       "<div>\n",
       "<style scoped>\n",
       "    .dataframe tbody tr th:only-of-type {\n",
       "        vertical-align: middle;\n",
       "    }\n",
       "\n",
       "    .dataframe tbody tr th {\n",
       "        vertical-align: top;\n",
       "    }\n",
       "\n",
       "    .dataframe thead th {\n",
       "        text-align: right;\n",
       "    }\n",
       "</style>\n",
       "<table border=\"1\" class=\"dataframe\">\n",
       "  <thead>\n",
       "    <tr style=\"text-align: right;\">\n",
       "      <th></th>\n",
       "      <th>count</th>\n",
       "      <th>mean</th>\n",
       "      <th>std</th>\n",
       "      <th>min</th>\n",
       "      <th>25%</th>\n",
       "      <th>50%</th>\n",
       "      <th>75%</th>\n",
       "      <th>max</th>\n",
       "    </tr>\n",
       "  </thead>\n",
       "  <tbody>\n",
       "    <tr>\n",
       "      <th>Location</th>\n",
       "      <td>145460.0</td>\n",
       "      <td>7.815677e-18</td>\n",
       "      <td>1.000003</td>\n",
       "      <td>-1.672228</td>\n",
       "      <td>-0.899139</td>\n",
       "      <td>0.014511</td>\n",
       "      <td>0.857881</td>\n",
       "      <td>1.701250</td>\n",
       "    </tr>\n",
       "    <tr>\n",
       "      <th>MinTemp</th>\n",
       "      <td>145460.0</td>\n",
       "      <td>-4.501830e-16</td>\n",
       "      <td>1.000003</td>\n",
       "      <td>-3.250525</td>\n",
       "      <td>-0.705659</td>\n",
       "      <td>-0.030170</td>\n",
       "      <td>0.723865</td>\n",
       "      <td>3.410112</td>\n",
       "    </tr>\n",
       "    <tr>\n",
       "      <th>MaxTemp</th>\n",
       "      <td>145460.0</td>\n",
       "      <td>3.001220e-16</td>\n",
       "      <td>1.000003</td>\n",
       "      <td>-3.952405</td>\n",
       "      <td>-0.735852</td>\n",
       "      <td>-0.086898</td>\n",
       "      <td>0.703133</td>\n",
       "      <td>3.510563</td>\n",
       "    </tr>\n",
       "    <tr>\n",
       "      <th>Rainfall</th>\n",
       "      <td>145460.0</td>\n",
       "      <td>7.815677e-18</td>\n",
       "      <td>1.000003</td>\n",
       "      <td>-0.275097</td>\n",
       "      <td>-0.275097</td>\n",
       "      <td>-0.275097</td>\n",
       "      <td>-0.203581</td>\n",
       "      <td>43.945571</td>\n",
       "    </tr>\n",
       "    <tr>\n",
       "      <th>Evaporation</th>\n",
       "      <td>145460.0</td>\n",
       "      <td>-3.282584e-17</td>\n",
       "      <td>1.000003</td>\n",
       "      <td>-1.629472</td>\n",
       "      <td>-0.371139</td>\n",
       "      <td>-0.119472</td>\n",
       "      <td>0.006361</td>\n",
       "      <td>43.985108</td>\n",
       "    </tr>\n",
       "    <tr>\n",
       "      <th>Sunshine</th>\n",
       "      <td>145460.0</td>\n",
       "      <td>-5.424080e-16</td>\n",
       "      <td>1.000003</td>\n",
       "      <td>-2.897217</td>\n",
       "      <td>0.076188</td>\n",
       "      <td>0.148710</td>\n",
       "      <td>0.257494</td>\n",
       "      <td>2.360634</td>\n",
       "    </tr>\n",
       "    <tr>\n",
       "      <th>WindGustDir</th>\n",
       "      <td>145460.0</td>\n",
       "      <td>6.252542e-18</td>\n",
       "      <td>1.000003</td>\n",
       "      <td>-1.724209</td>\n",
       "      <td>-0.872075</td>\n",
       "      <td>0.193094</td>\n",
       "      <td>1.045228</td>\n",
       "      <td>1.471296</td>\n",
       "    </tr>\n",
       "    <tr>\n",
       "      <th>WindGustSpeed</th>\n",
       "      <td>145460.0</td>\n",
       "      <td>1.824961e-16</td>\n",
       "      <td>1.000003</td>\n",
       "      <td>-2.588407</td>\n",
       "      <td>-0.683048</td>\n",
       "      <td>-0.073333</td>\n",
       "      <td>0.460168</td>\n",
       "      <td>7.243246</td>\n",
       "    </tr>\n",
       "    <tr>\n",
       "      <th>WindDir9am</th>\n",
       "      <td>145460.0</td>\n",
       "      <td>7.190423e-17</td>\n",
       "      <td>1.000003</td>\n",
       "      <td>-1.550000</td>\n",
       "      <td>-0.885669</td>\n",
       "      <td>0.000105</td>\n",
       "      <td>0.885879</td>\n",
       "      <td>1.771653</td>\n",
       "    </tr>\n",
       "    <tr>\n",
       "      <th>WindDir3pm</th>\n",
       "      <td>145460.0</td>\n",
       "      <td>8.284618e-17</td>\n",
       "      <td>1.000003</td>\n",
       "      <td>-1.718521</td>\n",
       "      <td>-0.837098</td>\n",
       "      <td>0.044324</td>\n",
       "      <td>0.925747</td>\n",
       "      <td>1.586813</td>\n",
       "    </tr>\n",
       "    <tr>\n",
       "      <th>WindSpeed9am</th>\n",
       "      <td>145460.0</td>\n",
       "      <td>5.627287e-17</td>\n",
       "      <td>1.000003</td>\n",
       "      <td>-1.583291</td>\n",
       "      <td>-0.793380</td>\n",
       "      <td>-0.116314</td>\n",
       "      <td>0.560752</td>\n",
       "      <td>13.086472</td>\n",
       "    </tr>\n",
       "    <tr>\n",
       "      <th>WindSpeed3pm</th>\n",
       "      <td>145460.0</td>\n",
       "      <td>6.565169e-17</td>\n",
       "      <td>1.000003</td>\n",
       "      <td>-2.141841</td>\n",
       "      <td>-0.650449</td>\n",
       "      <td>0.037886</td>\n",
       "      <td>0.611499</td>\n",
       "      <td>7.839016</td>\n",
       "    </tr>\n",
       "    <tr>\n",
       "      <th>Humidity9am</th>\n",
       "      <td>145460.0</td>\n",
       "      <td>2.250915e-16</td>\n",
       "      <td>1.000003</td>\n",
       "      <td>-3.654212</td>\n",
       "      <td>-0.631189</td>\n",
       "      <td>0.058273</td>\n",
       "      <td>0.747734</td>\n",
       "      <td>1.649338</td>\n",
       "    </tr>\n",
       "    <tr>\n",
       "      <th>Humidity3pm</th>\n",
       "      <td>145460.0</td>\n",
       "      <td>-8.440931e-17</td>\n",
       "      <td>1.000003</td>\n",
       "      <td>-2.518329</td>\n",
       "      <td>-0.710918</td>\n",
       "      <td>0.021816</td>\n",
       "      <td>0.656852</td>\n",
       "      <td>2.366565</td>\n",
       "    </tr>\n",
       "    <tr>\n",
       "      <th>Pressure9am</th>\n",
       "      <td>145460.0</td>\n",
       "      <td>-4.314254e-16</td>\n",
       "      <td>1.000003</td>\n",
       "      <td>-5.520544</td>\n",
       "      <td>-0.616005</td>\n",
       "      <td>-0.006653</td>\n",
       "      <td>0.617561</td>\n",
       "      <td>3.471111</td>\n",
       "    </tr>\n",
       "    <tr>\n",
       "      <th>Pressure3pm</th>\n",
       "      <td>145460.0</td>\n",
       "      <td>5.027043e-15</td>\n",
       "      <td>1.000003</td>\n",
       "      <td>-5.724832</td>\n",
       "      <td>-0.622769</td>\n",
       "      <td>-0.007520</td>\n",
       "      <td>0.622735</td>\n",
       "      <td>3.653960</td>\n",
       "    </tr>\n",
       "    <tr>\n",
       "      <th>Cloud9am</th>\n",
       "      <td>145460.0</td>\n",
       "      <td>-1.016038e-16</td>\n",
       "      <td>1.000003</td>\n",
       "      <td>-2.042425</td>\n",
       "      <td>-0.727490</td>\n",
       "      <td>0.149133</td>\n",
       "      <td>0.587445</td>\n",
       "      <td>1.902380</td>\n",
       "    </tr>\n",
       "    <tr>\n",
       "      <th>Cloud3pm</th>\n",
       "      <td>145460.0</td>\n",
       "      <td>7.346736e-17</td>\n",
       "      <td>1.000003</td>\n",
       "      <td>-2.235619</td>\n",
       "      <td>-0.336969</td>\n",
       "      <td>0.137693</td>\n",
       "      <td>0.612356</td>\n",
       "      <td>2.036343</td>\n",
       "    </tr>\n",
       "    <tr>\n",
       "      <th>Temp9am</th>\n",
       "      <td>145460.0</td>\n",
       "      <td>7.503050e-17</td>\n",
       "      <td>1.000003</td>\n",
       "      <td>-3.750358</td>\n",
       "      <td>-0.726764</td>\n",
       "      <td>-0.044517</td>\n",
       "      <td>0.699753</td>\n",
       "      <td>3.599302</td>\n",
       "    </tr>\n",
       "    <tr>\n",
       "      <th>Temp3pm</th>\n",
       "      <td>145460.0</td>\n",
       "      <td>-6.877796e-17</td>\n",
       "      <td>1.000003</td>\n",
       "      <td>-3.951301</td>\n",
       "      <td>-0.725322</td>\n",
       "      <td>-0.083046</td>\n",
       "      <td>0.661411</td>\n",
       "      <td>3.653834</td>\n",
       "    </tr>\n",
       "    <tr>\n",
       "      <th>RainToday</th>\n",
       "      <td>145460.0</td>\n",
       "      <td>-8.988029e-18</td>\n",
       "      <td>1.000003</td>\n",
       "      <td>-0.529795</td>\n",
       "      <td>-0.529795</td>\n",
       "      <td>-0.529795</td>\n",
       "      <td>-0.529795</td>\n",
       "      <td>1.887521</td>\n",
       "    </tr>\n",
       "    <tr>\n",
       "      <th>year</th>\n",
       "      <td>145460.0</td>\n",
       "      <td>2.080221e-14</td>\n",
       "      <td>1.000003</td>\n",
       "      <td>-2.273637</td>\n",
       "      <td>-0.697391</td>\n",
       "      <td>0.090732</td>\n",
       "      <td>0.878855</td>\n",
       "      <td>1.666978</td>\n",
       "    </tr>\n",
       "    <tr>\n",
       "      <th>month_sin</th>\n",
       "      <td>145460.0</td>\n",
       "      <td>1.270048e-17</td>\n",
       "      <td>1.000003</td>\n",
       "      <td>-1.434333</td>\n",
       "      <td>-0.725379</td>\n",
       "      <td>-0.016425</td>\n",
       "      <td>0.692529</td>\n",
       "      <td>1.401483</td>\n",
       "    </tr>\n",
       "    <tr>\n",
       "      <th>month_cos</th>\n",
       "      <td>145460.0</td>\n",
       "      <td>-1.602214e-17</td>\n",
       "      <td>1.000003</td>\n",
       "      <td>-1.388032</td>\n",
       "      <td>-1.198979</td>\n",
       "      <td>0.023080</td>\n",
       "      <td>0.728636</td>\n",
       "      <td>1.434192</td>\n",
       "    </tr>\n",
       "    <tr>\n",
       "      <th>day_sin</th>\n",
       "      <td>145460.0</td>\n",
       "      <td>-2.521777e-18</td>\n",
       "      <td>1.000003</td>\n",
       "      <td>-1.403140</td>\n",
       "      <td>-1.019170</td>\n",
       "      <td>-0.003198</td>\n",
       "      <td>1.012774</td>\n",
       "      <td>1.396744</td>\n",
       "    </tr>\n",
       "    <tr>\n",
       "      <th>day_cos</th>\n",
       "      <td>145460.0</td>\n",
       "      <td>-1.176015e-17</td>\n",
       "      <td>1.000003</td>\n",
       "      <td>-1.392587</td>\n",
       "      <td>-1.055520</td>\n",
       "      <td>-0.044639</td>\n",
       "      <td>1.011221</td>\n",
       "      <td>1.455246</td>\n",
       "    </tr>\n",
       "  </tbody>\n",
       "</table>\n",
       "</div>"
      ],
      "text/plain": [
       "                  count          mean       std       min       25%       50%  \\\n",
       "Location       145460.0  7.815677e-18  1.000003 -1.672228 -0.899139  0.014511   \n",
       "MinTemp        145460.0 -4.501830e-16  1.000003 -3.250525 -0.705659 -0.030170   \n",
       "MaxTemp        145460.0  3.001220e-16  1.000003 -3.952405 -0.735852 -0.086898   \n",
       "Rainfall       145460.0  7.815677e-18  1.000003 -0.275097 -0.275097 -0.275097   \n",
       "Evaporation    145460.0 -3.282584e-17  1.000003 -1.629472 -0.371139 -0.119472   \n",
       "Sunshine       145460.0 -5.424080e-16  1.000003 -2.897217  0.076188  0.148710   \n",
       "WindGustDir    145460.0  6.252542e-18  1.000003 -1.724209 -0.872075  0.193094   \n",
       "WindGustSpeed  145460.0  1.824961e-16  1.000003 -2.588407 -0.683048 -0.073333   \n",
       "WindDir9am     145460.0  7.190423e-17  1.000003 -1.550000 -0.885669  0.000105   \n",
       "WindDir3pm     145460.0  8.284618e-17  1.000003 -1.718521 -0.837098  0.044324   \n",
       "WindSpeed9am   145460.0  5.627287e-17  1.000003 -1.583291 -0.793380 -0.116314   \n",
       "WindSpeed3pm   145460.0  6.565169e-17  1.000003 -2.141841 -0.650449  0.037886   \n",
       "Humidity9am    145460.0  2.250915e-16  1.000003 -3.654212 -0.631189  0.058273   \n",
       "Humidity3pm    145460.0 -8.440931e-17  1.000003 -2.518329 -0.710918  0.021816   \n",
       "Pressure9am    145460.0 -4.314254e-16  1.000003 -5.520544 -0.616005 -0.006653   \n",
       "Pressure3pm    145460.0  5.027043e-15  1.000003 -5.724832 -0.622769 -0.007520   \n",
       "Cloud9am       145460.0 -1.016038e-16  1.000003 -2.042425 -0.727490  0.149133   \n",
       "Cloud3pm       145460.0  7.346736e-17  1.000003 -2.235619 -0.336969  0.137693   \n",
       "Temp9am        145460.0  7.503050e-17  1.000003 -3.750358 -0.726764 -0.044517   \n",
       "Temp3pm        145460.0 -6.877796e-17  1.000003 -3.951301 -0.725322 -0.083046   \n",
       "RainToday      145460.0 -8.988029e-18  1.000003 -0.529795 -0.529795 -0.529795   \n",
       "year           145460.0  2.080221e-14  1.000003 -2.273637 -0.697391  0.090732   \n",
       "month_sin      145460.0  1.270048e-17  1.000003 -1.434333 -0.725379 -0.016425   \n",
       "month_cos      145460.0 -1.602214e-17  1.000003 -1.388032 -1.198979  0.023080   \n",
       "day_sin        145460.0 -2.521777e-18  1.000003 -1.403140 -1.019170 -0.003198   \n",
       "day_cos        145460.0 -1.176015e-17  1.000003 -1.392587 -1.055520 -0.044639   \n",
       "\n",
       "                    75%        max  \n",
       "Location       0.857881   1.701250  \n",
       "MinTemp        0.723865   3.410112  \n",
       "MaxTemp        0.703133   3.510563  \n",
       "Rainfall      -0.203581  43.945571  \n",
       "Evaporation    0.006361  43.985108  \n",
       "Sunshine       0.257494   2.360634  \n",
       "WindGustDir    1.045228   1.471296  \n",
       "WindGustSpeed  0.460168   7.243246  \n",
       "WindDir9am     0.885879   1.771653  \n",
       "WindDir3pm     0.925747   1.586813  \n",
       "WindSpeed9am   0.560752  13.086472  \n",
       "WindSpeed3pm   0.611499   7.839016  \n",
       "Humidity9am    0.747734   1.649338  \n",
       "Humidity3pm    0.656852   2.366565  \n",
       "Pressure9am    0.617561   3.471111  \n",
       "Pressure3pm    0.622735   3.653960  \n",
       "Cloud9am       0.587445   1.902380  \n",
       "Cloud3pm       0.612356   2.036343  \n",
       "Temp9am        0.699753   3.599302  \n",
       "Temp3pm        0.661411   3.653834  \n",
       "RainToday     -0.529795   1.887521  \n",
       "year           0.878855   1.666978  \n",
       "month_sin      0.692529   1.401483  \n",
       "month_cos      0.728636   1.434192  \n",
       "day_sin        1.012774   1.396744  \n",
       "day_cos        1.011221   1.455246  "
      ]
     },
     "execution_count": 190,
     "metadata": {},
     "output_type": "execute_result"
    }
   ],
   "source": [
    "# Prepairing attributes of scale data\n",
    "\n",
    "features = data.drop(['RainTomorrow', 'Date','day', 'month'], axis=1) # dropping target and extra columns\n",
    "\n",
    "target = data['RainTomorrow']\n",
    "\n",
    "#Set up a standard scaler for the features\n",
    "col_names = list(features.columns)\n",
    "s_scaler = preprocessing.StandardScaler()\n",
    "features = s_scaler.fit_transform(features)\n",
    "features = pd.DataFrame(features, columns=col_names) \n",
    "features_shape = features.shape\n",
    "\n",
    "features.describe().T"
   ]
  },
  {
   "cell_type": "code",
   "execution_count": 191,
   "metadata": {},
   "outputs": [
    {
     "data": {
      "image/png": "[encoded data removed]",
      "text/plain": [
       "<Figure size 1152x360 with 1 Axes>"
      ]
     },
     "metadata": {
      "needs_background": "light"
     },
     "output_type": "display_data"
    }
   ],
   "source": [
    "plt.figure(figsize=(16,5))\n",
    "sns.boxplot(data=features)\n",
    "plt.xticks(rotation=90)\n",
    "plt.show()"
   ]
  },
  {
   "cell_type": "code",
   "execution_count": 199,
   "metadata": {},
   "outputs": [
    {
     "data": {
      "image/png": "[encoded data removed]",
      "text/plain": [
       "<Figure size 1152x360 with 1 Axes>"
      ]
     },
     "metadata": {
      "needs_background": "light"
     },
     "output_type": "display_data"
    }
   ],
   "source": [
    "low = .05\n",
    "high = .95\n",
    "quant_data = features.quantile([low, high])\n",
    "filt_features = features.apply(lambda x: x[(x>quant_data.loc[low,x.name]) & \n",
    "                                    (x < quant_data.loc[high,x.name])], axis=0)\n",
    "\n",
    "plt.figure(figsize=(16,5))\n",
    "sns.boxplot(data=filt_features)\n",
    "plt.xticks(rotation=90)\n",
    "plt.show()"
   ]
  },
  {
   "cell_type": "code",
   "execution_count": 200,
   "metadata": {},
   "outputs": [
    {
     "name": "stdout",
     "output_type": "stream",
     "text": [
      "features shape before: (145460, 26) \n",
      "features shape after: (127536, 27)\n"
     ]
    },
    {
     "data": {
      "image/png": "[encoded data removed]",
      "text/plain": [
       "<Figure size 1152x360 with 1 Axes>"
      ]
     },
     "metadata": {
      "needs_background": "light"
     },
     "output_type": "display_data"
    }
   ],
   "source": [
    "#full data for \n",
    "features[\"RainTomorrow\"] = target\n",
    "\n",
    "#Dropping with outlier\n",
    "\n",
    "features = features[(features[\"MinTemp\"]<2.3)&(features[\"MinTemp\"]>-2.3)]\n",
    "features = features[(features[\"MaxTemp\"]<2.3)&(features[\"MaxTemp\"]>-2)]\n",
    "features = features[(features[\"Rainfall\"]<4.5)]\n",
    "features = features[(features[\"Evaporation\"]<2.8)]\n",
    "features = features[(features[\"Sunshine\"]<2.1)]\n",
    "features = features[(features[\"WindGustSpeed\"]<4)&(features[\"WindGustSpeed\"]>-4)]\n",
    "features = features[(features[\"WindSpeed9am\"]<4)]\n",
    "features = features[(features[\"WindSpeed3pm\"]<2.5)]\n",
    "features = features[(features[\"Humidity9am\"]>-3)]\n",
    "features = features[(features[\"Humidity3pm\"]>-2.2)]\n",
    "features = features[(features[\"Pressure9am\"]< 2)&(features[\"Pressure9am\"]>-2.7)]\n",
    "features = features[(features[\"Pressure3pm\"]< 2)&(features[\"Pressure3pm\"]>-2.7)]\n",
    "features = features[(features[\"Cloud9am\"]<1.8)]\n",
    "features = features[(features[\"Cloud3pm\"]<2)]\n",
    "features = features[(features[\"Temp9am\"]<2.3)&(features[\"Temp9am\"]>-2)]\n",
    "features = features[(features[\"Temp3pm\"]<2.3)&(features[\"Temp3pm\"]>-2)]\n",
    "\n",
    "print('features shape before:',features_shape,'\\nfeatures shape after:', features.shape)\n",
    "colours = [\"#D0DBEE\", \"#C2C4E2\", \"#EED4E5\", \"#D1E6DC\", \"#BDE2E2\"]\n",
    "\n",
    "plt.figure(figsize=(16,5))\n",
    "sns.boxplot(data=features, palette=colours)\n",
    "plt.xticks(rotation=80)\n",
    "plt.show()"
   ]
  },
  {
   "cell_type": "markdown",
   "metadata": {},
   "source": [
    "ПОСТРОЕНИЕ МОДЕЛИ\n",
    "В этом проекте мы строим искусственную нейронную сеть.\n",
    "\n",
    "В построении модели участвуют следующие шаги\n",
    "\n",
    "### Присвоение X и y статуса атрибутов и тегов\n",
    "### Расщепление тестовых и тренировочных наборов\n",
    "### Инициализация нейронной сети\n",
    "### Определение путем добавления слоев\n",
    "### Компиляция нейронной сети\n",
    "### Тренируйте нейронную сеть"
   ]
  },
  {
   "cell_type": "code",
   "execution_count": 201,
   "metadata": {},
   "outputs": [
    {
     "data": {
      "text/plain": [
       "(127536, 26)"
      ]
     },
     "execution_count": 201,
     "metadata": {},
     "output_type": "execute_result"
    }
   ],
   "source": [
    "X = features.drop([\"RainTomorrow\"], axis=1)\n",
    "y = features[\"RainTomorrow\"]\n",
    "\n",
    "# Splitting test and training sets\n",
    "X_train, X_test, y_train, y_test = train_test_split(X, y, test_size = 0.2, random_state = 42)\n",
    "\n",
    "X.shape"
   ]
  },
  {
   "cell_type": "code",
   "execution_count": 202,
   "metadata": {},
   "outputs": [
    {
     "name": "stdout",
     "output_type": "stream",
     "text": [
      "Epoch 1/150\n",
      "2551/2551 [==============================] - 7s 2ms/step - loss: 0.4221 - accuracy: 0.8110 - val_loss: 0.3702 - val_accuracy: 0.8412\n",
      "Epoch 2/150\n",
      "2551/2551 [==============================] - 4s 2ms/step - loss: 0.3683 - accuracy: 0.8441 - val_loss: 0.3621 - val_accuracy: 0.8439\n",
      "Epoch 3/150\n",
      "2551/2551 [==============================] - 6s 2ms/step - loss: 0.3596 - accuracy: 0.8462 - val_loss: 0.3596 - val_accuracy: 0.8428\n",
      "Epoch 4/150\n",
      "2551/2551 [==============================] - 4s 2ms/step - loss: 0.3531 - accuracy: 0.8500 - val_loss: 0.3587 - val_accuracy: 0.8435\n",
      "Epoch 5/150\n",
      "2551/2551 [==============================] - 5s 2ms/step - loss: 0.3559 - accuracy: 0.8469 - val_loss: 0.3576 - val_accuracy: 0.8439\n",
      "Epoch 6/150\n",
      "2551/2551 [==============================] - 6s 2ms/step - loss: 0.3513 - accuracy: 0.8498 - val_loss: 0.3577 - val_accuracy: 0.8439\n",
      "Epoch 7/150\n",
      "2551/2551 [==============================] - 5s 2ms/step - loss: 0.3535 - accuracy: 0.8468 - val_loss: 0.3576 - val_accuracy: 0.8433\n",
      "Epoch 8/150\n",
      "2551/2551 [==============================] - 6s 2ms/step - loss: 0.3494 - accuracy: 0.8495 - val_loss: 0.3559 - val_accuracy: 0.8443\n",
      "Epoch 9/150\n",
      "2551/2551 [==============================] - 4s 2ms/step - loss: 0.3519 - accuracy: 0.8479 - val_loss: 0.3567 - val_accuracy: 0.8427\n",
      "Epoch 10/150\n",
      "2551/2551 [==============================] - 6s 2ms/step - loss: 0.3462 - accuracy: 0.8527 - val_loss: 0.3585 - val_accuracy: 0.8458\n",
      "Epoch 11/150\n",
      "2551/2551 [==============================] - 5s 2ms/step - loss: 0.3526 - accuracy: 0.8468 - val_loss: 0.3561 - val_accuracy: 0.8456\n",
      "Epoch 12/150\n",
      "2551/2551 [==============================] - 4s 2ms/step - loss: 0.3489 - accuracy: 0.8476 - val_loss: 0.3534 - val_accuracy: 0.8453\n",
      "Epoch 13/150\n",
      "2551/2551 [==============================] - 4s 2ms/step - loss: 0.3511 - accuracy: 0.8479 - val_loss: 0.3551 - val_accuracy: 0.8450\n",
      "Epoch 14/150\n",
      "2551/2551 [==============================] - 4s 2ms/step - loss: 0.3517 - accuracy: 0.8484 - val_loss: 0.3543 - val_accuracy: 0.8453\n",
      "Epoch 15/150\n",
      "2551/2551 [==============================] - 5s 2ms/step - loss: 0.3477 - accuracy: 0.8475 - val_loss: 0.3543 - val_accuracy: 0.8459\n",
      "Epoch 16/150\n",
      "2551/2551 [==============================] - 6s 2ms/step - loss: 0.3477 - accuracy: 0.8500 - val_loss: 0.3557 - val_accuracy: 0.8455\n",
      "Epoch 17/150\n",
      "2551/2551 [==============================] - 5s 2ms/step - loss: 0.3476 - accuracy: 0.8499 - val_loss: 0.3554 - val_accuracy: 0.8432\n",
      "Epoch 18/150\n",
      "2551/2551 [==============================] - 7s 3ms/step - loss: 0.3484 - accuracy: 0.8492 - val_loss: 0.3558 - val_accuracy: 0.8449\n",
      "Epoch 19/150\n",
      "2551/2551 [==============================] - 6s 2ms/step - loss: 0.3479 - accuracy: 0.8512 - val_loss: 0.3559 - val_accuracy: 0.8448\n",
      "Epoch 20/150\n",
      "2551/2551 [==============================] - 6s 2ms/step - loss: 0.3437 - accuracy: 0.8503 - val_loss: 0.3539 - val_accuracy: 0.8436\n",
      "Epoch 21/150\n",
      "2551/2551 [==============================] - 7s 3ms/step - loss: 0.3485 - accuracy: 0.8481 - val_loss: 0.3546 - val_accuracy: 0.8447\n",
      "Epoch 22/150\n",
      "2551/2551 [==============================] - 6s 2ms/step - loss: 0.3436 - accuracy: 0.8540 - val_loss: 0.3552 - val_accuracy: 0.8468\n",
      "Epoch 23/150\n",
      "2551/2551 [==============================] - 7s 3ms/step - loss: 0.3441 - accuracy: 0.8513 - val_loss: 0.3518 - val_accuracy: 0.8463\n",
      "Epoch 24/150\n",
      "2551/2551 [==============================] - 5s 2ms/step - loss: 0.3522 - accuracy: 0.8465 - val_loss: 0.3542 - val_accuracy: 0.8485\n",
      "Epoch 25/150\n",
      "2551/2551 [==============================] - 5s 2ms/step - loss: 0.3441 - accuracy: 0.8515 - val_loss: 0.3512 - val_accuracy: 0.8480\n",
      "Epoch 26/150\n",
      "2551/2551 [==============================] - 5s 2ms/step - loss: 0.3434 - accuracy: 0.8532 - val_loss: 0.3504 - val_accuracy: 0.8493\n",
      "Epoch 27/150\n",
      "2551/2551 [==============================] - 6s 2ms/step - loss: 0.3421 - accuracy: 0.8523 - val_loss: 0.3519 - val_accuracy: 0.8482\n",
      "Epoch 28/150\n",
      "2551/2551 [==============================] - 5s 2ms/step - loss: 0.3447 - accuracy: 0.8493 - val_loss: 0.3503 - val_accuracy: 0.8478\n",
      "Epoch 29/150\n",
      "2551/2551 [==============================] - 5s 2ms/step - loss: 0.3426 - accuracy: 0.8524 - val_loss: 0.3502 - val_accuracy: 0.8477\n",
      "Epoch 30/150\n",
      "2551/2551 [==============================] - 6s 2ms/step - loss: 0.3371 - accuracy: 0.8541 - val_loss: 0.3500 - val_accuracy: 0.8464\n",
      "Epoch 31/150\n",
      "2551/2551 [==============================] - 5s 2ms/step - loss: 0.3433 - accuracy: 0.8518 - val_loss: 0.3509 - val_accuracy: 0.8480\n",
      "Epoch 32/150\n",
      "2551/2551 [==============================] - 5s 2ms/step - loss: 0.3430 - accuracy: 0.8526 - val_loss: 0.3530 - val_accuracy: 0.8467\n",
      "Epoch 33/150\n",
      "2551/2551 [==============================] - 7s 3ms/step - loss: 0.3409 - accuracy: 0.8531 - val_loss: 0.3498 - val_accuracy: 0.8469\n",
      "Epoch 34/150\n",
      "2551/2551 [==============================] - 7s 3ms/step - loss: 0.3385 - accuracy: 0.8547 - val_loss: 0.3511 - val_accuracy: 0.8473\n",
      "Epoch 35/150\n",
      "2551/2551 [==============================] - 5s 2ms/step - loss: 0.3430 - accuracy: 0.8515 - val_loss: 0.3493 - val_accuracy: 0.8475\n",
      "Epoch 36/150\n",
      "2551/2551 [==============================] - 5s 2ms/step - loss: 0.3423 - accuracy: 0.8537 - val_loss: 0.3496 - val_accuracy: 0.8472\n",
      "Epoch 37/150\n",
      "2551/2551 [==============================] - 6s 2ms/step - loss: 0.3413 - accuracy: 0.8528 - val_loss: 0.3494 - val_accuracy: 0.8473\n",
      "Epoch 38/150\n",
      "2551/2551 [==============================] - 6s 3ms/step - loss: 0.3382 - accuracy: 0.8537 - val_loss: 0.3495 - val_accuracy: 0.8460\n",
      "Epoch 39/150\n",
      "2551/2551 [==============================] - 6s 2ms/step - loss: 0.3391 - accuracy: 0.8549 - val_loss: 0.3509 - val_accuracy: 0.8457\n",
      "Epoch 40/150\n",
      "2551/2551 [==============================] - 6s 2ms/step - loss: 0.3416 - accuracy: 0.8524 - val_loss: 0.3507 - val_accuracy: 0.8463\n",
      "Epoch 41/150\n",
      "2551/2551 [==============================] - 6s 2ms/step - loss: 0.3397 - accuracy: 0.8531 - val_loss: 0.3509 - val_accuracy: 0.8469\n",
      "Epoch 42/150\n",
      "2551/2551 [==============================] - 7s 3ms/step - loss: 0.3398 - accuracy: 0.8523 - val_loss: 0.3505 - val_accuracy: 0.8472\n",
      "Epoch 43/150\n",
      "2551/2551 [==============================] - 7s 3ms/step - loss: 0.3372 - accuracy: 0.8550 - val_loss: 0.3497 - val_accuracy: 0.8488\n",
      "Epoch 44/150\n",
      "2551/2551 [==============================] - 7s 3ms/step - loss: 0.3390 - accuracy: 0.8526 - val_loss: 0.3486 - val_accuracy: 0.8475\n",
      "Epoch 45/150\n",
      "2551/2551 [==============================] - 4s 2ms/step - loss: 0.3412 - accuracy: 0.8532 - val_loss: 0.3500 - val_accuracy: 0.8478\n",
      "Epoch 46/150\n",
      "2551/2551 [==============================] - 4s 2ms/step - loss: 0.3428 - accuracy: 0.8522 - val_loss: 0.3489 - val_accuracy: 0.8479\n",
      "Epoch 47/150\n",
      "2551/2551 [==============================] - 4s 2ms/step - loss: 0.3371 - accuracy: 0.8542 - val_loss: 0.3489 - val_accuracy: 0.8474\n",
      "Epoch 48/150\n",
      "2551/2551 [==============================] - 4s 2ms/step - loss: 0.3390 - accuracy: 0.8522 - val_loss: 0.3488 - val_accuracy: 0.8476\n",
      "Epoch 49/150\n",
      "2551/2551 [==============================] - 4s 2ms/step - loss: 0.3379 - accuracy: 0.8549 - val_loss: 0.3488 - val_accuracy: 0.8483\n",
      "Epoch 50/150\n",
      "2551/2551 [==============================] - 5s 2ms/step - loss: 0.3380 - accuracy: 0.8533 - val_loss: 0.3489 - val_accuracy: 0.8469\n",
      "Epoch 51/150\n",
      "2551/2551 [==============================] - 6s 2ms/step - loss: 0.3359 - accuracy: 0.8539 - val_loss: 0.3525 - val_accuracy: 0.8478\n",
      "Epoch 52/150\n",
      "2551/2551 [==============================] - 6s 2ms/step - loss: 0.3363 - accuracy: 0.8559 - val_loss: 0.3494 - val_accuracy: 0.8471\n",
      "Epoch 53/150\n",
      "2551/2551 [==============================] - 4s 2ms/step - loss: 0.3362 - accuracy: 0.8550 - val_loss: 0.3506 - val_accuracy: 0.8465\n",
      "Epoch 54/150\n",
      "2551/2551 [==============================] - 4s 2ms/step - loss: 0.3372 - accuracy: 0.8529 - val_loss: 0.3504 - val_accuracy: 0.8474\n",
      "Epoch 55/150\n",
      "2551/2551 [==============================] - 4s 2ms/step - loss: 0.3353 - accuracy: 0.8561 - val_loss: 0.3497 - val_accuracy: 0.8478\n"
     ]
    }
   ],
   "source": [
    "#Early stopping\n",
    "early_stopping = callbacks.EarlyStopping(\n",
    "    min_delta=0.001, # minimium amount of change to count as an improvement\n",
    "    patience=20, # how many epochs to wait before stopping\n",
    "    restore_best_weights=True,\n",
    ")\n",
    "\n",
    "# Initialising the NN\n",
    "model = Sequential()\n",
    "\n",
    "# layers\n",
    "model.add(Dense(units = 25, kernel_initializer = 'uniform', activation = 'relu', input_dim = 26))\n",
    "model.add(Dense(units = 25, kernel_initializer = 'uniform', activation = 'relu'))\n",
    "model.add(Dense(units = 16, kernel_initializer = 'uniform', activation = 'relu'))\n",
    "model.add(Dense(units = 5, kernel_initializer = 'uniform', activation = 'relu'))\n",
    "model.add(Dense(units = 1, kernel_initializer = 'uniform', activation = 'sigmoid'))\n",
    "\n",
    "# Compiling the ANN\n",
    "model.compile(optimizer = 'adam', loss = 'binary_crossentropy', metrics = ['accuracy'])\n",
    "\n",
    "# Train the ANN\n",
    "history = model.fit(X_train, y_train, batch_size = 32, epochs = 150, callbacks=[early_stopping], validation_split=0.2)"
   ]
  },
  {
   "cell_type": "markdown",
   "metadata": {},
   "source": [
    "Plotting training and validation loss over epochs"
   ]
  },
  {
   "cell_type": "code",
   "execution_count": 203,
   "metadata": {},
   "outputs": [
    {
     "data": {
      "image/png": "[encoded data removed]",
      "text/plain": [
       "<Figure size 432x288 with 1 Axes>"
      ]
     },
     "metadata": {
      "needs_background": "light"
     },
     "output_type": "display_data"
    }
   ],
   "source": [
    "history_df = pd.DataFrame(history.history)\n",
    "\n",
    "plt.plot(history_df.loc[:, ['loss']], \"#BDE2E2\", label='Training loss')\n",
    "plt.plot(history_df.loc[:, ['val_loss']],\"#C2C4E2\", label='Validation loss')\n",
    "plt.title('Training and Validation loss')\n",
    "plt.xlabel('Epochs')\n",
    "plt.ylabel('Loss')\n",
    "plt.legend(loc=\"best\")\n",
    "\n",
    "plt.show()"
   ]
  },
  {
   "cell_type": "markdown",
   "metadata": {},
   "source": [
    "Plotting training and validation accuracy over epochs"
   ]
  },
  {
   "cell_type": "code",
   "execution_count": 204,
   "metadata": {},
   "outputs": [
    {
     "data": {
      "image/png": "[encoded data removed]",
      "text/plain": [
       "<Figure size 432x288 with 1 Axes>"
      ]
     },
     "metadata": {
      "needs_background": "light"
     },
     "output_type": "display_data"
    }
   ],
   "source": [
    "history_df = pd.DataFrame(history.history)\n",
    "\n",
    "plt.plot(history_df.loc[:, ['accuracy']], \"#BDE2E2\", label='Training accuracy')\n",
    "plt.plot(history_df.loc[:, ['val_accuracy']], \"#C2C4E2\", label='Validation accuracy')\n",
    "\n",
    "plt.title('Training and Validation accuracy')\n",
    "plt.xlabel('Epochs')\n",
    "plt.ylabel('Accuracy')\n",
    "plt.legend()\n",
    "plt.show()"
   ]
  },
  {
   "cell_type": "code",
   "execution_count": 207,
   "metadata": {},
   "outputs": [],
   "source": [
    "# Predicting the test set results\n",
    "y_pred = model.predict(X_test)\n",
    "y_pred = (y_pred > 0.5)"
   ]
  },
  {
   "cell_type": "code",
   "execution_count": 208,
   "metadata": {},
   "outputs": [
    {
     "data": {
      "text/plain": [
       "<AxesSubplot:>"
      ]
     },
     "execution_count": 208,
     "metadata": {},
     "output_type": "execute_result"
    },
    {
     "data": {
      "image/png": "[encoded data removed]",
      "text/plain": [
       "<Figure size 864x576 with 2 Axes>"
      ]
     },
     "metadata": {
      "needs_background": "light"
     },
     "output_type": "display_data"
    }
   ],
   "source": [
    "cmap1 = sns.diverging_palette(260,-10,s=50, l=75, n=5, as_cmap=True)\n",
    "plt.subplots(figsize=(12,8))\n",
    "cf_matrix = confusion_matrix(y_test, y_pred)\n",
    "sns.heatmap(cf_matrix/np.sum(cf_matrix), cmap = cmap1, annot = True, annot_kws = {'size':15})"
   ]
  },
  {
   "cell_type": "code",
   "execution_count": 209,
   "metadata": {},
   "outputs": [
    {
     "name": "stdout",
     "output_type": "stream",
     "text": [
      "              precision    recall  f1-score   support\n",
      "\n",
      "           0       0.88      0.94      0.91     20110\n",
      "           1       0.69      0.52      0.60      5398\n",
      "\n",
      "    accuracy                           0.85     25508\n",
      "   macro avg       0.79      0.73      0.75     25508\n",
      "weighted avg       0.84      0.85      0.84     25508\n",
      "\n"
     ]
    }
   ],
   "source": [
    "print(classification_report(y_test, y_pred))"
   ]
  }
 ],
 "metadata": {
  "kernelspec": {
   "display_name": "Python 3",
   "language": "python",
   "name": "python3"
  },
  "language_info": {
   "codemirror_mode": {
    "name": "ipython",
    "version": 3
   },
   "file_extension": ".py",
   "mimetype": "text/x-python",
   "name": "python",
   "nbconvert_exporter": "python",
   "pygments_lexer": "ipython3",
   "version": "3.8.5"
  },
  "toc": {
   "base_numbering": 1,
   "nav_menu": {},
   "number_sections": true,
   "sideBar": true,
   "skip_h1_title": false,
   "title_cell": "Table of Contents",
   "title_sidebar": "Contents",
   "toc_cell": true,
   "toc_position": {},
   "toc_section_display": true,
   "toc_window_display": false
  }
 },
 "nbformat": 4,
 "nbformat_minor": 4
}
