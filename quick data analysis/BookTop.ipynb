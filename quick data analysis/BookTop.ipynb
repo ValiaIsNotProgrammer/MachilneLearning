{
 "cells": [
  {
   "cell_type": "markdown",
   "metadata": {
    "toc": true
   },
   "source": [
    "<h1>Table of Contents<span class=\"tocSkip\"></span></h1>\n",
    "<div class=\"toc\"><ul class=\"toc-item\"></ul></div>"
   ]
  },
  {
   "cell_type": "code",
   "execution_count": 48,
   "metadata": {},
   "outputs": [],
   "source": [
    "import numpy as np \n",
    "import pandas as pd\n",
    "import seaborn as sns\n",
    "import matplotlib.pyplot as plt\n",
    "from sklearn.cluster import KMeans\n",
    "from sklearn import neighbors\n",
    "from sklearn.model_selection import train_test_split\n",
    "import requests\n",
    "import ssl\n",
    "import seaborn as sns"
   ]
  },
  {
   "cell_type": "code",
   "execution_count": 2,
   "metadata": {},
   "outputs": [
    {
     "name": "stderr",
     "output_type": "stream",
     "text": [
      "b'Skipping line 3350: expected 12 fields, saw 13\\nSkipping line 4704: expected 12 fields, saw 13\\nSkipping line 5879: expected 12 fields, saw 13\\nSkipping line 8981: expected 12 fields, saw 13\\n'\n"
     ]
    }
   ],
   "source": [
    "df = pd.read_csv('/Users/valentine/Desktop/data_for_practic/books.csv', error_bad_lines=False)\n",
    "df.head()\n",
    "data = pd.read_csv('/Users/valentine/Desktop/data_for_practic/bestsellers with categories.csv')\n",
    "data.drop_duplicates('Name',inplace=True)"
   ]
  },
  {
   "cell_type": "code",
   "execution_count": 3,
   "metadata": {},
   "outputs": [],
   "source": [
    "df.columns = ['bookID', 'title', 'authors', 'average_rating', 'isbn', 'isbn13',\n",
    "           'language_code', 'num_pages', 'ratings_count', 'text_reviews_count',\n",
    "           'publication_date', 'publisher']"
   ]
  },
  {
   "cell_type": "code",
   "execution_count": 4,
   "metadata": {},
   "outputs": [
    {
     "data": {
      "text/html": [
       "<div>\n",
       "<style scoped>\n",
       "    .dataframe tbody tr th:only-of-type {\n",
       "        vertical-align: middle;\n",
       "    }\n",
       "\n",
       "    .dataframe tbody tr th {\n",
       "        vertical-align: top;\n",
       "    }\n",
       "\n",
       "    .dataframe thead th {\n",
       "        text-align: right;\n",
       "    }\n",
       "</style>\n",
       "<table border=\"1\" class=\"dataframe\">\n",
       "  <thead>\n",
       "    <tr style=\"text-align: right;\">\n",
       "      <th></th>\n",
       "      <th>bookID</th>\n",
       "      <th>title</th>\n",
       "      <th>authors</th>\n",
       "      <th>average_rating</th>\n",
       "      <th>isbn</th>\n",
       "      <th>isbn13</th>\n",
       "      <th>language_code</th>\n",
       "      <th>num_pages</th>\n",
       "      <th>ratings_count</th>\n",
       "      <th>text_reviews_count</th>\n",
       "      <th>publication_date</th>\n",
       "      <th>publisher</th>\n",
       "    </tr>\n",
       "  </thead>\n",
       "  <tbody>\n",
       "    <tr>\n",
       "      <th>0</th>\n",
       "      <td>0</td>\n",
       "      <td>0</td>\n",
       "      <td>0</td>\n",
       "      <td>0</td>\n",
       "      <td>0</td>\n",
       "      <td>0</td>\n",
       "      <td>0</td>\n",
       "      <td>0</td>\n",
       "      <td>0</td>\n",
       "      <td>0</td>\n",
       "      <td>0</td>\n",
       "      <td>0</td>\n",
       "    </tr>\n",
       "  </tbody>\n",
       "</table>\n",
       "</div>"
      ],
      "text/plain": [
       "   bookID  title  authors  average_rating  isbn  isbn13  language_code  \\\n",
       "0       0      0        0               0     0       0              0   \n",
       "\n",
       "   num_pages  ratings_count  text_reviews_count  publication_date  publisher  \n",
       "0          0              0                   0                 0          0  "
      ]
     },
     "execution_count": 4,
     "metadata": {},
     "output_type": "execute_result"
    }
   ],
   "source": [
    "miss_values = pd.DataFrame(df.isna().sum())\n",
    "df.drop_duplicates(inplace=True)\n",
    "miss_values.T"
   ]
  },
  {
   "cell_type": "code",
   "execution_count": 5,
   "metadata": {},
   "outputs": [
    {
     "data": {
      "image/png": "[encoded data removed]",
      "text/plain": [
       "<Figure size 432x288 with 1 Axes>"
      ]
     },
     "metadata": {
      "needs_background": "light"
     },
     "output_type": "display_data"
    }
   ],
   "source": [
    "plt.scatter(df.num_pages, df.average_rating)\n",
    "plt.xlabel('numbers of pages')\n",
    "plt.ylabel('rating')\n",
    "plt.show()"
   ]
  },
  {
   "cell_type": "code",
   "execution_count": 6,
   "metadata": {},
   "outputs": [
    {
     "data": {
      "text/html": [
       "<div>\n",
       "<style scoped>\n",
       "    .dataframe tbody tr th:only-of-type {\n",
       "        vertical-align: middle;\n",
       "    }\n",
       "\n",
       "    .dataframe tbody tr th {\n",
       "        vertical-align: top;\n",
       "    }\n",
       "\n",
       "    .dataframe thead th {\n",
       "        text-align: right;\n",
       "    }\n",
       "</style>\n",
       "<table border=\"1\" class=\"dataframe\">\n",
       "  <thead>\n",
       "    <tr style=\"text-align: right;\">\n",
       "      <th></th>\n",
       "      <th>bookID</th>\n",
       "      <th>title</th>\n",
       "      <th>authors</th>\n",
       "      <th>average_rating</th>\n",
       "      <th>isbn</th>\n",
       "      <th>isbn13</th>\n",
       "      <th>language_code</th>\n",
       "      <th>num_pages</th>\n",
       "      <th>ratings_count</th>\n",
       "      <th>text_reviews_count</th>\n",
       "      <th>publication_date</th>\n",
       "      <th>publisher</th>\n",
       "    </tr>\n",
       "  </thead>\n",
       "  <tbody>\n",
       "    <tr>\n",
       "      <th>6497</th>\n",
       "      <td>24520</td>\n",
       "      <td>The Complete Aubrey/Maturin Novels (5 Volumes)</td>\n",
       "      <td>Patrick O'Brian</td>\n",
       "      <td>4.7</td>\n",
       "      <td>039306011X</td>\n",
       "      <td>9780393060119</td>\n",
       "      <td>eng</td>\n",
       "      <td>6576</td>\n",
       "      <td>1338</td>\n",
       "      <td>81</td>\n",
       "      <td>10/17/2004</td>\n",
       "      <td>W. W. Norton  Company</td>\n",
       "    </tr>\n",
       "  </tbody>\n",
       "</table>\n",
       "</div>"
      ],
      "text/plain": [
       "      bookID                                           title          authors  \\\n",
       "6497   24520  The Complete Aubrey/Maturin Novels (5 Volumes)  Patrick O'Brian   \n",
       "\n",
       "      average_rating        isbn         isbn13 language_code  num_pages  \\\n",
       "6497             4.7  039306011X  9780393060119           eng       6576   \n",
       "\n",
       "      ratings_count  text_reviews_count publication_date  \\\n",
       "6497           1338                  81       10/17/2004   \n",
       "\n",
       "                  publisher  \n",
       "6497  W. W. Norton  Company  "
      ]
     },
     "execution_count": 6,
     "metadata": {},
     "output_type": "execute_result"
    }
   ],
   "source": [
    "# alright it's complete collection\n",
    "df[(df.num_pages > 6000)] "
   ]
  },
  {
   "cell_type": "code",
   "execution_count": null,
   "metadata": {},
   "outputs": [],
   "source": []
  },
  {
   "cell_type": "code",
   "execution_count": 165,
   "metadata": {},
   "outputs": [],
   "source": [
    "top_books = data[data.Genre == 'Non Fiction'].sort_values(['Year','Reviews'], ascending=[True, False])"
   ]
  },
  {
   "cell_type": "code",
   "execution_count": 17,
   "metadata": {},
   "outputs": [
    {
     "data": {
      "text/plain": [
       "<AxesSubplot:title={'center':'Languages'}, xlabel='language_code', ylabel='count'>"
      ]
     },
     "execution_count": 17,
     "metadata": {},
     "output_type": "execute_result"
    },
    {
     "data": {
      "image/png": "[encoded data removed]",
      "text/plain": [
       "<Figure size 1800x720 with 1 Axes>"
      ]
     },
     "metadata": {
      "needs_background": "light"
     },
     "output_type": "display_data"
    }
   ],
   "source": [
    "plt.figure(1, figsize=(25,10))\n",
    "plt.title(\"Languages\")\n",
    "sns.countplot(x = \"language_code\", order=df['language_code'].value_counts().index[0:10] ,data=df,palette='inferno')"
   ]
  },
  {
   "cell_type": "code",
   "execution_count": 14,
   "metadata": {},
   "outputs": [],
   "source": [
    "most_books = df.groupby('authors')['title'].count().reset_index().sort_values('title', ascending=False).head(10).set_index('authors')"
   ]
  },
  {
   "cell_type": "code",
   "execution_count": 16,
   "metadata": {},
   "outputs": [
    {
     "name": "stderr",
     "output_type": "stream",
     "text": [
      "/Library/Frameworks/Python.framework/Versions/3.8/lib/python3.8/site-packages/seaborn/_decorators.py:36: FutureWarning: Pass the following variables as keyword args: x, y. From version 0.12, the only valid positional argument will be `data`, and passing other arguments without an explicit keyword will result in an error or misinterpretation.\n",
      "  warnings.warn(\n"
     ]
    },
    {
     "data": {
      "image/png": "[encoded data removed]",
      "text/plain": [
       "<Figure size 1080x720 with 1 Axes>"
      ]
     },
     "metadata": {
      "needs_background": "light"
     },
     "output_type": "display_data"
    }
   ],
   "source": [
    "plt.figure(figsize=(15,10))\n",
    "ax = sns.barplot(most_books['title'], most_books.index, palette='inferno')\n",
    "ax.set_title(\"Top 10 authors with most books\")\n",
    "ax.set_xlabel(\"Total number of books\")\n",
    "totals = []\n",
    "for i in ax.patches:\n",
    "    totals.append(i.get_width())\n",
    "total = sum(totals)\n",
    "for i in ax.patches:\n",
    "    ax.text(i.get_width()+.2, i.get_y()+.2,str(round(i.get_width())), fontsize=15,color='black')\n",
    "plt.show()"
   ]
  },
  {
   "cell_type": "code",
   "execution_count": 25,
   "metadata": {},
   "outputs": [
    {
     "data": {
      "text/html": [
       "<div>\n",
       "<style scoped>\n",
       "    .dataframe tbody tr th:only-of-type {\n",
       "        vertical-align: middle;\n",
       "    }\n",
       "\n",
       "    .dataframe tbody tr th {\n",
       "        vertical-align: top;\n",
       "    }\n",
       "\n",
       "    .dataframe thead th {\n",
       "        text-align: right;\n",
       "    }\n",
       "</style>\n",
       "<table border=\"1\" class=\"dataframe\">\n",
       "  <thead>\n",
       "    <tr style=\"text-align: right;\">\n",
       "      <th></th>\n",
       "      <th>bookID</th>\n",
       "      <th>title</th>\n",
       "      <th>authors</th>\n",
       "      <th>average_rating</th>\n",
       "      <th>isbn</th>\n",
       "      <th>isbn13</th>\n",
       "      <th>language_code</th>\n",
       "      <th>num_pages</th>\n",
       "      <th>ratings_count</th>\n",
       "      <th>text_reviews_count</th>\n",
       "      <th>publication_date</th>\n",
       "      <th>publisher</th>\n",
       "    </tr>\n",
       "  </thead>\n",
       "  <tbody>\n",
       "    <tr>\n",
       "      <th>0</th>\n",
       "      <td>1</td>\n",
       "      <td>Harry Potter and the Half-Blood Prince (Harry ...</td>\n",
       "      <td>J.K. Rowling/Mary GrandPré</td>\n",
       "      <td>4.57</td>\n",
       "      <td>0439785960</td>\n",
       "      <td>9780439785969</td>\n",
       "      <td>eng</td>\n",
       "      <td>652</td>\n",
       "      <td>2095690</td>\n",
       "      <td>27591</td>\n",
       "      <td>9/16/2006</td>\n",
       "      <td>Scholastic Inc.</td>\n",
       "    </tr>\n",
       "    <tr>\n",
       "      <th>2846</th>\n",
       "      <td>10572</td>\n",
       "      <td>A Clash of Kings  (A Song of Ice and Fire  #2)</td>\n",
       "      <td>George R.R. Martin</td>\n",
       "      <td>4.41</td>\n",
       "      <td>0553381695</td>\n",
       "      <td>9780553381696</td>\n",
       "      <td>eng</td>\n",
       "      <td>969</td>\n",
       "      <td>638766</td>\n",
       "      <td>16535</td>\n",
       "      <td>5/28/2002</td>\n",
       "      <td>Bantam</td>\n",
       "    </tr>\n",
       "    <tr>\n",
       "      <th>4254</th>\n",
       "      <td>15241</td>\n",
       "      <td>The Two Towers (The Lord of the Rings  #2)</td>\n",
       "      <td>J.R.R. Tolkien/Peter S. Beagle</td>\n",
       "      <td>4.44</td>\n",
       "      <td>0618346260</td>\n",
       "      <td>9780618346264</td>\n",
       "      <td>eng</td>\n",
       "      <td>322</td>\n",
       "      <td>593467</td>\n",
       "      <td>5798</td>\n",
       "      <td>9/5/2003</td>\n",
       "      <td>Houghton Mifflin</td>\n",
       "    </tr>\n",
       "    <tr>\n",
       "      <th>3787</th>\n",
       "      <td>13615</td>\n",
       "      <td>Death Note  Vol. 1: Boredom (Death Note  #1)</td>\n",
       "      <td>Tsugumi Ohba/Takeshi Obata/Pookie Rolf</td>\n",
       "      <td>4.43</td>\n",
       "      <td>1421501686</td>\n",
       "      <td>9781421501680</td>\n",
       "      <td>eng</td>\n",
       "      <td>195</td>\n",
       "      <td>174482</td>\n",
       "      <td>3010</td>\n",
       "      <td>10/10/2005</td>\n",
       "      <td>VIZ Media LLC</td>\n",
       "    </tr>\n",
       "    <tr>\n",
       "      <th>10528</th>\n",
       "      <td>42900</td>\n",
       "      <td>Lover Awakened (Black Dagger Brotherhood  #3)</td>\n",
       "      <td>J.R. Ward</td>\n",
       "      <td>4.45</td>\n",
       "      <td>0451219368</td>\n",
       "      <td>9780451219367</td>\n",
       "      <td>eng</td>\n",
       "      <td>448</td>\n",
       "      <td>144906</td>\n",
       "      <td>5728</td>\n",
       "      <td>9/5/2006</td>\n",
       "      <td>Signet</td>\n",
       "    </tr>\n",
       "    <tr>\n",
       "      <th>...</th>\n",
       "      <td>...</td>\n",
       "      <td>...</td>\n",
       "      <td>...</td>\n",
       "      <td>...</td>\n",
       "      <td>...</td>\n",
       "      <td>...</td>\n",
       "      <td>...</td>\n",
       "      <td>...</td>\n",
       "      <td>...</td>\n",
       "      <td>...</td>\n",
       "      <td>...</td>\n",
       "      <td>...</td>\n",
       "    </tr>\n",
       "    <tr>\n",
       "      <th>10262</th>\n",
       "      <td>41639</td>\n",
       "      <td>Bill Gates: Computer Legend (Famous Lives)</td>\n",
       "      <td>Sara Barton-Wood</td>\n",
       "      <td>5.00</td>\n",
       "      <td>0739844326</td>\n",
       "      <td>9780739844328</td>\n",
       "      <td>eng</td>\n",
       "      <td>48</td>\n",
       "      <td>0</td>\n",
       "      <td>0</td>\n",
       "      <td>11/1/2001</td>\n",
       "      <td>Raintree</td>\n",
       "    </tr>\n",
       "    <tr>\n",
       "      <th>6813</th>\n",
       "      <td>25685</td>\n",
       "      <td>An Odyssey in Learning and Perception</td>\n",
       "      <td>Eleanor J. Gibson</td>\n",
       "      <td>4.50</td>\n",
       "      <td>026257103X</td>\n",
       "      <td>9780262571036</td>\n",
       "      <td>eng</td>\n",
       "      <td>654</td>\n",
       "      <td>0</td>\n",
       "      <td>0</td>\n",
       "      <td>2/3/1994</td>\n",
       "      <td>Bradford Book</td>\n",
       "    </tr>\n",
       "    <tr>\n",
       "      <th>6973</th>\n",
       "      <td>26410</td>\n",
       "      <td>Wissenschaft der Logik: Die Lehre Vom Begriff ...</td>\n",
       "      <td>Georg Wilhelm Friedrich Hegel</td>\n",
       "      <td>4.78</td>\n",
       "      <td>3787307672</td>\n",
       "      <td>9783787307678</td>\n",
       "      <td>ger</td>\n",
       "      <td>337</td>\n",
       "      <td>0</td>\n",
       "      <td>0</td>\n",
       "      <td>1/1/1994</td>\n",
       "      <td>F. Meiner</td>\n",
       "    </tr>\n",
       "    <tr>\n",
       "      <th>624</th>\n",
       "      <td>2034</td>\n",
       "      <td>Comoediae 1: Acharenses/Equites/Nubes/Vespae/P...</td>\n",
       "      <td>Aristophanes/F.W. Hall/W.M. Geldart</td>\n",
       "      <td>5.00</td>\n",
       "      <td>0198145047</td>\n",
       "      <td>9780198145042</td>\n",
       "      <td>grc</td>\n",
       "      <td>364</td>\n",
       "      <td>0</td>\n",
       "      <td>0</td>\n",
       "      <td>2/22/1922</td>\n",
       "      <td>Oxford University Press  USA</td>\n",
       "    </tr>\n",
       "    <tr>\n",
       "      <th>9063</th>\n",
       "      <td>35313</td>\n",
       "      <td>La Ley del Exito</td>\n",
       "      <td>Paramahansa Yogananda</td>\n",
       "      <td>4.44</td>\n",
       "      <td>0876121512</td>\n",
       "      <td>9780876121511</td>\n",
       "      <td>spa</td>\n",
       "      <td>32</td>\n",
       "      <td>0</td>\n",
       "      <td>0</td>\n",
       "      <td>6/1/1998</td>\n",
       "      <td>Self-Realization Fellowship Publishers</td>\n",
       "    </tr>\n",
       "  </tbody>\n",
       "</table>\n",
       "<p>357 rows × 12 columns</p>\n",
       "</div>"
      ],
      "text/plain": [
       "       bookID                                              title  \\\n",
       "0           1  Harry Potter and the Half-Blood Prince (Harry ...   \n",
       "2846    10572     A Clash of Kings  (A Song of Ice and Fire  #2)   \n",
       "4254    15241         The Two Towers (The Lord of the Rings  #2)   \n",
       "3787    13615       Death Note  Vol. 1: Boredom (Death Note  #1)   \n",
       "10528   42900      Lover Awakened (Black Dagger Brotherhood  #3)   \n",
       "...       ...                                                ...   \n",
       "10262   41639         Bill Gates: Computer Legend (Famous Lives)   \n",
       "6813    25685              An Odyssey in Learning and Perception   \n",
       "6973    26410  Wissenschaft der Logik: Die Lehre Vom Begriff ...   \n",
       "624      2034  Comoediae 1: Acharenses/Equites/Nubes/Vespae/P...   \n",
       "9063    35313                                   La Ley del Exito   \n",
       "\n",
       "                                      authors  average_rating        isbn  \\\n",
       "0                  J.K. Rowling/Mary GrandPré            4.57  0439785960   \n",
       "2846                       George R.R. Martin            4.41  0553381695   \n",
       "4254           J.R.R. Tolkien/Peter S. Beagle            4.44  0618346260   \n",
       "3787   Tsugumi Ohba/Takeshi Obata/Pookie Rolf            4.43  1421501686   \n",
       "10528                               J.R. Ward            4.45  0451219368   \n",
       "...                                       ...             ...         ...   \n",
       "10262                        Sara Barton-Wood            5.00  0739844326   \n",
       "6813                        Eleanor J. Gibson            4.50  026257103X   \n",
       "6973            Georg Wilhelm Friedrich Hegel            4.78  3787307672   \n",
       "624       Aristophanes/F.W. Hall/W.M. Geldart            5.00  0198145047   \n",
       "9063                    Paramahansa Yogananda            4.44  0876121512   \n",
       "\n",
       "              isbn13 language_code  num_pages  ratings_count  \\\n",
       "0      9780439785969           eng        652        2095690   \n",
       "2846   9780553381696           eng        969         638766   \n",
       "4254   9780618346264           eng        322         593467   \n",
       "3787   9781421501680           eng        195         174482   \n",
       "10528  9780451219367           eng        448         144906   \n",
       "...              ...           ...        ...            ...   \n",
       "10262  9780739844328           eng         48              0   \n",
       "6813   9780262571036           eng        654              0   \n",
       "6973   9783787307678           ger        337              0   \n",
       "624    9780198145042           grc        364              0   \n",
       "9063   9780876121511           spa         32              0   \n",
       "\n",
       "       text_reviews_count publication_date  \\\n",
       "0                   27591        9/16/2006   \n",
       "2846                16535        5/28/2002   \n",
       "4254                 5798         9/5/2003   \n",
       "3787                 3010       10/10/2005   \n",
       "10528                5728         9/5/2006   \n",
       "...                   ...              ...   \n",
       "10262                   0        11/1/2001   \n",
       "6813                    0         2/3/1994   \n",
       "6973                    0         1/1/1994   \n",
       "624                     0        2/22/1922   \n",
       "9063                    0         6/1/1998   \n",
       "\n",
       "                                    publisher  \n",
       "0                             Scholastic Inc.  \n",
       "2846                                   Bantam  \n",
       "4254                         Houghton Mifflin  \n",
       "3787                            VIZ Media LLC  \n",
       "10528                                  Signet  \n",
       "...                                       ...  \n",
       "10262                                Raintree  \n",
       "6813                            Bradford Book  \n",
       "6973                                F. Meiner  \n",
       "624              Oxford University Press  USA  \n",
       "9063   Self-Realization Fellowship Publishers  \n",
       "\n",
       "[357 rows x 12 columns]"
      ]
     },
     "execution_count": 25,
     "metadata": {},
     "output_type": "execute_result"
    }
   ],
   "source": [
    "highly_rated_author =df[df['average_rating']>4.4]\n",
    "highly_rated_author = highly_rated_author.drop_duplicates('authors')\n",
    "highly_rated_author.sort_values(by='ratings_count',ascending=False)"
   ]
  },
  {
   "cell_type": "code",
   "execution_count": 26,
   "metadata": {},
   "outputs": [
    {
     "name": "stderr",
     "output_type": "stream",
     "text": [
      "/Library/Frameworks/Python.framework/Versions/3.8/lib/python3.8/site-packages/matplotlib/backends/backend_agg.py:238: RuntimeWarning: Glyph 33618 missing from current font.\n",
      "  font.set_text(s, 0.0, flags=flags)\n",
      "/Library/Frameworks/Python.framework/Versions/3.8/lib/python3.8/site-packages/matplotlib/backends/backend_agg.py:238: RuntimeWarning: Glyph 24029 missing from current font.\n",
      "  font.set_text(s, 0.0, flags=flags)\n",
      "/Library/Frameworks/Python.framework/Versions/3.8/lib/python3.8/site-packages/matplotlib/backends/backend_agg.py:238: RuntimeWarning: Glyph 24344 missing from current font.\n",
      "  font.set_text(s, 0.0, flags=flags)\n",
      "/Library/Frameworks/Python.framework/Versions/3.8/lib/python3.8/site-packages/matplotlib/backends/backend_agg.py:238: RuntimeWarning: Glyph 26041 missing from current font.\n",
      "  font.set_text(s, 0.0, flags=flags)\n",
      "/Library/Frameworks/Python.framework/Versions/3.8/lib/python3.8/site-packages/matplotlib/backends/backend_agg.py:238: RuntimeWarning: Glyph 37057 missing from current font.\n",
      "  font.set_text(s, 0.0, flags=flags)\n",
      "/Library/Frameworks/Python.framework/Versions/3.8/lib/python3.8/site-packages/matplotlib/backends/backend_agg.py:238: RuntimeWarning: Glyph 20161 missing from current font.\n",
      "  font.set_text(s, 0.0, flags=flags)\n",
      "/Library/Frameworks/Python.framework/Versions/3.8/lib/python3.8/site-packages/matplotlib/backends/backend_agg.py:201: RuntimeWarning: Glyph 33618 missing from current font.\n",
      "  font.set_text(s, 0, flags=flags)\n",
      "/Library/Frameworks/Python.framework/Versions/3.8/lib/python3.8/site-packages/matplotlib/backends/backend_agg.py:201: RuntimeWarning: Glyph 24029 missing from current font.\n",
      "  font.set_text(s, 0, flags=flags)\n",
      "/Library/Frameworks/Python.framework/Versions/3.8/lib/python3.8/site-packages/matplotlib/backends/backend_agg.py:201: RuntimeWarning: Glyph 24344 missing from current font.\n",
      "  font.set_text(s, 0, flags=flags)\n",
      "/Library/Frameworks/Python.framework/Versions/3.8/lib/python3.8/site-packages/matplotlib/backends/backend_agg.py:201: RuntimeWarning: Glyph 26041 missing from current font.\n",
      "  font.set_text(s, 0, flags=flags)\n",
      "/Library/Frameworks/Python.framework/Versions/3.8/lib/python3.8/site-packages/matplotlib/backends/backend_agg.py:201: RuntimeWarning: Glyph 37057 missing from current font.\n",
      "  font.set_text(s, 0, flags=flags)\n",
      "/Library/Frameworks/Python.framework/Versions/3.8/lib/python3.8/site-packages/matplotlib/backends/backend_agg.py:201: RuntimeWarning: Glyph 20161 missing from current font.\n",
      "  font.set_text(s, 0, flags=flags)\n"
     ]
    },
    {
     "data": {
      "image/png": "[encoded data removed]",
      "text/plain": [
       "<Figure size 1080x720 with 1 Axes>"
      ]
     },
     "metadata": {
      "needs_background": "light"
     },
     "output_type": "display_data"
    }
   ],
   "source": [
    "highly_rated_author =df[df['average_rating']>4.4]\n",
    "highly_rated_author = highly_rated_author.groupby('authors')['title'].count().reset_index().sort_values('title',ascending=False).head(10).set_index('authors')\n",
    "plt.subplots(figsize=(15,10))\n",
    "ax = highly_rated_author['title'].sort_values().plot.barh(width=0.9,color=sns.color_palette('inferno',12))\n",
    "ax.set_xlabel(\"Total books \", fontsize=15)\n",
    "ax.set_ylabel(\"Authors\", fontsize=15)\n",
    "ax.set_title(\"Top 10 highly rated authors\",fontsize=20,color='black')\n",
    "totals = []\n",
    "for i in ax.patches:\n",
    "    totals.append(i.get_width())\n",
    "total = sum(totals)\n",
    "for i in ax.patches:\n",
    "    ax.text(i.get_width()+.2, i.get_y()+.2,str(round(i.get_width())), fontsize=15,color='black')\n",
    "plt.show()"
   ]
  },
  {
   "cell_type": "code",
   "execution_count": 27,
   "metadata": {},
   "outputs": [
    {
     "data": {
      "image/png": "[encoded data removed]",
      "text/plain": [
       "<Figure size 1080x720 with 1 Axes>"
      ]
     },
     "metadata": {
      "needs_background": "light"
     },
     "output_type": "display_data"
    }
   ],
   "source": [
    "top_publishers = df.groupby('publisher')['title'].count().reset_index().sort_values('title',ascending=False).head(10).set_index('publisher')\n",
    "plt.subplots(figsize=(15,10))\n",
    "ax = top_publishers['title'].sort_values().plot.barh(width=0.9,color=sns.color_palette('inferno',12))\n",
    "ax.set_xlabel(\"Total books \", fontsize=15)\n",
    "ax.set_ylabel(\"Publishers\", fontsize=15)\n",
    "ax.set_title(\"Top 10 Publishers Present in our data\",fontsize=20,color='black')\n",
    "totals = []\n",
    "for i in ax.patches:\n",
    "    totals.append(i.get_width())\n",
    "total = sum(totals)\n",
    "for i in ax.patches:\n",
    "    ax.text(i.get_width()+.2, i.get_y()+.2,str(round(i.get_width())), fontsize=15,color='black')\n",
    "plt.show()"
   ]
  },
  {
   "cell_type": "code",
   "execution_count": 28,
   "metadata": {},
   "outputs": [
    {
     "name": "stderr",
     "output_type": "stream",
     "text": [
      "/Library/Frameworks/Python.framework/Versions/3.8/lib/python3.8/site-packages/seaborn/distributions.py:2551: FutureWarning: `distplot` is a deprecated function and will be removed in a future version. Please adapt your code to use either `displot` (a figure-level function with similar flexibility) or `histplot` (an axes-level function for histograms).\n",
      "  warnings.warn(msg, FutureWarning)\n"
     ]
    },
    {
     "data": {
      "text/plain": [
       "Text(0.5, 0, 'Average rating')"
      ]
     },
     "execution_count": 28,
     "metadata": {},
     "output_type": "execute_result"
    },
    {
     "data": {
      "image/png": "[encoded data removed]",
      "text/plain": [
       "<Figure size 1080x720 with 1 Axes>"
      ]
     },
     "metadata": {
      "needs_background": "light"
     },
     "output_type": "display_data"
    }
   ],
   "source": [
    "df.average_rating = df.average_rating.astype(float)\n",
    "fig, ax = plt.subplots(figsize=[15,10])\n",
    "sns.distplot(df['average_rating'],ax=ax)\n",
    "ax.set_title('Average rating distribution for all books',fontsize=20)\n",
    "ax.set_xlabel('Average rating',fontsize=13)"
   ]
  },
  {
   "cell_type": "code",
   "execution_count": 29,
   "metadata": {},
   "outputs": [
    {
     "data": {
      "text/plain": [
       "<seaborn.axisgrid.FacetGrid at 0x128089df0>"
      ]
     },
     "execution_count": 29,
     "metadata": {},
     "output_type": "execute_result"
    },
    {
     "data": {
      "image/png": "[encoded data removed]",
      "text/plain": [
       "<Figure size 504x504 with 1 Axes>"
      ]
     },
     "metadata": {
      "needs_background": "light"
     },
     "output_type": "display_data"
    }
   ],
   "source": [
    "ax = sns.relplot(data=df, x=\"average_rating\", y=\"ratings_count\", color = 'red', sizes=(100, 200), height=7, marker='o')\n",
    "plt.title(\"Relation between Rating counts and Average Ratings\",fontsize = 15)\n",
    "ax.set_axis_labels(\"Average Rating\", \"Ratings Count\")"
   ]
  },
  {
   "cell_type": "code",
   "execution_count": 31,
   "metadata": {},
   "outputs": [
    {
     "data": {
      "text/plain": [
       "<seaborn.axisgrid.FacetGrid at 0x128208be0>"
      ]
     },
     "execution_count": 31,
     "metadata": {},
     "output_type": "execute_result"
    },
    {
     "data": {
      "text/plain": [
       "<Figure size 1080x720 with 0 Axes>"
      ]
     },
     "metadata": {},
     "output_type": "display_data"
    },
    {
     "data": {
      "image/png": "[encoded data removed]",
      "text/plain": [
       "<Figure size 504x504 with 1 Axes>"
      ]
     },
     "metadata": {
      "needs_background": "light"
     },
     "output_type": "display_data"
    }
   ],
   "source": [
    "plt.figure(figsize=(15,10))\n",
    "ax = sns.relplot(x=\"average_rating\", y=\"num_pages\", data = df, color = 'red',sizes=(100, 200), height=7, marker='o')\n",
    "ax.set_axis_labels(\"Average Rating\", \"Number of Pages\")"
   ]
  },
  {
   "cell_type": "code",
   "execution_count": 32,
   "metadata": {},
   "outputs": [
    {
     "data": {
      "text/plain": [
       "<seaborn.axisgrid.FacetGrid at 0x129757a60>"
      ]
     },
     "execution_count": 32,
     "metadata": {},
     "output_type": "execute_result"
    },
    {
     "data": {
      "text/plain": [
       "<Figure size 1080x720 with 0 Axes>"
      ]
     },
     "metadata": {},
     "output_type": "display_data"
    },
    {
     "data": {
      "image/png": "[encoded data removed]",
      "text/plain": [
       "<Figure size 504x504 with 1 Axes>"
      ]
     },
     "metadata": {
      "needs_background": "light"
     },
     "output_type": "display_data"
    }
   ],
   "source": [
    "plt.figure(figsize=(15,10))\n",
    "ax = sns.relplot(x=\"average_rating\", y=\"language_code\", data = df, color = 'red',sizes=(100, 200), height=7, marker='o')\n",
    "ax.set_axis_labels(\"Average Rating\", \"Languages\")"
   ]
  },
  {
   "cell_type": "code",
   "execution_count": 33,
   "metadata": {},
   "outputs": [
    {
     "data": {
      "text/plain": [
       "<seaborn.axisgrid.FacetGrid at 0x12850c580>"
      ]
     },
     "execution_count": 33,
     "metadata": {},
     "output_type": "execute_result"
    },
    {
     "data": {
      "text/plain": [
       "<Figure size 1080x720 with 0 Axes>"
      ]
     },
     "metadata": {},
     "output_type": "display_data"
    },
    {
     "data": {
      "image/png": "[encoded data removed]",
      "text/plain": [
       "<Figure size 504x504 with 1 Axes>"
      ]
     },
     "metadata": {
      "needs_background": "light"
     },
     "output_type": "display_data"
    }
   ],
   "source": [
    "plt.figure(figsize=(15,10))\n",
    "ax = sns.relplot(x=\"average_rating\", y=\"text_reviews_count\", data = df, color = 'red',sizes=(100, 200), height=7, marker='o')\n",
    "ax.set_axis_labels(\"Average Rating\", \"Text Reviews Count\")"
   ]
  },
  {
   "cell_type": "code",
   "execution_count": 39,
   "metadata": {},
   "outputs": [
    {
     "data": {
      "text/html": [
       "<div>\n",
       "<style scoped>\n",
       "    .dataframe tbody tr th:only-of-type {\n",
       "        vertical-align: middle;\n",
       "    }\n",
       "\n",
       "    .dataframe tbody tr th {\n",
       "        vertical-align: top;\n",
       "    }\n",
       "\n",
       "    .dataframe thead th {\n",
       "        text-align: right;\n",
       "    }\n",
       "</style>\n",
       "<table border=\"1\" class=\"dataframe\">\n",
       "  <thead>\n",
       "    <tr style=\"text-align: right;\">\n",
       "      <th></th>\n",
       "      <th>bookID</th>\n",
       "      <th>title</th>\n",
       "      <th>authors</th>\n",
       "      <th>average_rating</th>\n",
       "      <th>isbn</th>\n",
       "      <th>isbn13</th>\n",
       "      <th>language_code</th>\n",
       "      <th>num_pages</th>\n",
       "      <th>ratings_count</th>\n",
       "      <th>text_reviews_count</th>\n",
       "      <th>publication_date</th>\n",
       "      <th>publisher</th>\n",
       "      <th>rating_between</th>\n",
       "    </tr>\n",
       "  </thead>\n",
       "  <tbody>\n",
       "    <tr>\n",
       "      <th>0</th>\n",
       "      <td>1</td>\n",
       "      <td>Harry Potter and the Half-Blood Prince (Harry ...</td>\n",
       "      <td>J.K. Rowling/Mary GrandPré</td>\n",
       "      <td>4.57</td>\n",
       "      <td>0439785960</td>\n",
       "      <td>9780439785969</td>\n",
       "      <td>eng</td>\n",
       "      <td>652</td>\n",
       "      <td>2095690</td>\n",
       "      <td>27591</td>\n",
       "      <td>9/16/2006</td>\n",
       "      <td>Scholastic Inc.</td>\n",
       "      <td>between 4 and 5</td>\n",
       "    </tr>\n",
       "    <tr>\n",
       "      <th>1</th>\n",
       "      <td>2</td>\n",
       "      <td>Harry Potter and the Order of the Phoenix (Har...</td>\n",
       "      <td>J.K. Rowling/Mary GrandPré</td>\n",
       "      <td>4.49</td>\n",
       "      <td>0439358078</td>\n",
       "      <td>9780439358071</td>\n",
       "      <td>eng</td>\n",
       "      <td>870</td>\n",
       "      <td>2153167</td>\n",
       "      <td>29221</td>\n",
       "      <td>9/1/2004</td>\n",
       "      <td>Scholastic Inc.</td>\n",
       "      <td>between 4 and 5</td>\n",
       "    </tr>\n",
       "    <tr>\n",
       "      <th>2</th>\n",
       "      <td>4</td>\n",
       "      <td>Harry Potter and the Chamber of Secrets (Harry...</td>\n",
       "      <td>J.K. Rowling</td>\n",
       "      <td>4.42</td>\n",
       "      <td>0439554896</td>\n",
       "      <td>9780439554893</td>\n",
       "      <td>eng</td>\n",
       "      <td>352</td>\n",
       "      <td>6333</td>\n",
       "      <td>244</td>\n",
       "      <td>11/1/2003</td>\n",
       "      <td>Scholastic</td>\n",
       "      <td>between 4 and 5</td>\n",
       "    </tr>\n",
       "    <tr>\n",
       "      <th>3</th>\n",
       "      <td>5</td>\n",
       "      <td>Harry Potter and the Prisoner of Azkaban (Harr...</td>\n",
       "      <td>J.K. Rowling/Mary GrandPré</td>\n",
       "      <td>4.56</td>\n",
       "      <td>043965548X</td>\n",
       "      <td>9780439655484</td>\n",
       "      <td>eng</td>\n",
       "      <td>435</td>\n",
       "      <td>2339585</td>\n",
       "      <td>36325</td>\n",
       "      <td>5/1/2004</td>\n",
       "      <td>Scholastic Inc.</td>\n",
       "      <td>between 4 and 5</td>\n",
       "    </tr>\n",
       "    <tr>\n",
       "      <th>4</th>\n",
       "      <td>8</td>\n",
       "      <td>Harry Potter Boxed Set  Books 1-5 (Harry Potte...</td>\n",
       "      <td>J.K. Rowling/Mary GrandPré</td>\n",
       "      <td>4.78</td>\n",
       "      <td>0439682584</td>\n",
       "      <td>9780439682589</td>\n",
       "      <td>eng</td>\n",
       "      <td>2690</td>\n",
       "      <td>41428</td>\n",
       "      <td>164</td>\n",
       "      <td>9/13/2004</td>\n",
       "      <td>Scholastic</td>\n",
       "      <td>between 4 and 5</td>\n",
       "    </tr>\n",
       "  </tbody>\n",
       "</table>\n",
       "</div>"
      ],
      "text/plain": [
       "   bookID                                              title  \\\n",
       "0       1  Harry Potter and the Half-Blood Prince (Harry ...   \n",
       "1       2  Harry Potter and the Order of the Phoenix (Har...   \n",
       "2       4  Harry Potter and the Chamber of Secrets (Harry...   \n",
       "3       5  Harry Potter and the Prisoner of Azkaban (Harr...   \n",
       "4       8  Harry Potter Boxed Set  Books 1-5 (Harry Potte...   \n",
       "\n",
       "                      authors  average_rating        isbn         isbn13  \\\n",
       "0  J.K. Rowling/Mary GrandPré            4.57  0439785960  9780439785969   \n",
       "1  J.K. Rowling/Mary GrandPré            4.49  0439358078  9780439358071   \n",
       "2                J.K. Rowling            4.42  0439554896  9780439554893   \n",
       "3  J.K. Rowling/Mary GrandPré            4.56  043965548X  9780439655484   \n",
       "4  J.K. Rowling/Mary GrandPré            4.78  0439682584  9780439682589   \n",
       "\n",
       "  language_code  num_pages  ratings_count  text_reviews_count  \\\n",
       "0           eng        652        2095690               27591   \n",
       "1           eng        870        2153167               29221   \n",
       "2           eng        352           6333                 244   \n",
       "3           eng        435        2339585               36325   \n",
       "4           eng       2690          41428                 164   \n",
       "\n",
       "  publication_date        publisher   rating_between  \n",
       "0        9/16/2006  Scholastic Inc.  between 4 and 5  \n",
       "1         9/1/2004  Scholastic Inc.  between 4 and 5  \n",
       "2        11/1/2003       Scholastic  between 4 and 5  \n",
       "3         5/1/2004  Scholastic Inc.  between 4 and 5  \n",
       "4        9/13/2004       Scholastic  between 4 and 5  "
      ]
     },
     "execution_count": 39,
     "metadata": {},
     "output_type": "execute_result"
    }
   ],
   "source": [
    "df.loc[ (df['average_rating'] >= 0) & (df['average_rating'] <= 1), 'rating_between'] = \"between 0 and 1\"\n",
    "df.loc[ (df['average_rating'] > 1) & (df['average_rating'] <= 2), 'rating_between'] = \"between 1 and 2\"\n",
    "df.loc[ (df['average_rating'] > 2) & (df['average_rating'] <= 3), 'rating_between'] = \"between 2 and 3\"\n",
    "df.loc[ (df['average_rating'] > 3) & (df['average_rating'] <= 4), 'rating_between'] = \"between 3 and 4\"\n",
    "df.loc[ (df['average_rating'] > 4) & (df['average_rating'] <= 5), 'rating_between'] = \"between 4 and 5\"\n",
    "df.head()\n"
   ]
  },
  {
   "cell_type": "code",
   "execution_count": 41,
   "metadata": {},
   "outputs": [
    {
     "data": {
      "text/html": [
       "<div>\n",
       "<style scoped>\n",
       "    .dataframe tbody tr th:only-of-type {\n",
       "        vertical-align: middle;\n",
       "    }\n",
       "\n",
       "    .dataframe tbody tr th {\n",
       "        vertical-align: top;\n",
       "    }\n",
       "\n",
       "    .dataframe thead th {\n",
       "        text-align: right;\n",
       "    }\n",
       "</style>\n",
       "<table border=\"1\" class=\"dataframe\">\n",
       "  <thead>\n",
       "    <tr style=\"text-align: right;\">\n",
       "      <th></th>\n",
       "      <th>between 0 and 1</th>\n",
       "      <th>between 1 and 2</th>\n",
       "      <th>between 2 and 3</th>\n",
       "      <th>between 3 and 4</th>\n",
       "      <th>between 4 and 5</th>\n",
       "    </tr>\n",
       "  </thead>\n",
       "  <tbody>\n",
       "    <tr>\n",
       "      <th>0</th>\n",
       "      <td>0</td>\n",
       "      <td>0</td>\n",
       "      <td>0</td>\n",
       "      <td>0</td>\n",
       "      <td>1</td>\n",
       "    </tr>\n",
       "    <tr>\n",
       "      <th>1</th>\n",
       "      <td>0</td>\n",
       "      <td>0</td>\n",
       "      <td>0</td>\n",
       "      <td>0</td>\n",
       "      <td>1</td>\n",
       "    </tr>\n",
       "    <tr>\n",
       "      <th>2</th>\n",
       "      <td>0</td>\n",
       "      <td>0</td>\n",
       "      <td>0</td>\n",
       "      <td>0</td>\n",
       "      <td>1</td>\n",
       "    </tr>\n",
       "    <tr>\n",
       "      <th>3</th>\n",
       "      <td>0</td>\n",
       "      <td>0</td>\n",
       "      <td>0</td>\n",
       "      <td>0</td>\n",
       "      <td>1</td>\n",
       "    </tr>\n",
       "    <tr>\n",
       "      <th>4</th>\n",
       "      <td>0</td>\n",
       "      <td>0</td>\n",
       "      <td>0</td>\n",
       "      <td>0</td>\n",
       "      <td>1</td>\n",
       "    </tr>\n",
       "  </tbody>\n",
       "</table>\n",
       "</div>"
      ],
      "text/plain": [
       "   between 0 and 1  between 1 and 2  between 2 and 3  between 3 and 4  \\\n",
       "0                0                0                0                0   \n",
       "1                0                0                0                0   \n",
       "2                0                0                0                0   \n",
       "3                0                0                0                0   \n",
       "4                0                0                0                0   \n",
       "\n",
       "   between 4 and 5  \n",
       "0                1  \n",
       "1                1  \n",
       "2                1  \n",
       "3                1  \n",
       "4                1  "
      ]
     },
     "execution_count": 41,
     "metadata": {},
     "output_type": "execute_result"
    }
   ],
   "source": [
    "rating_df = pd.get_dummies(df['rating_between'])\n",
    "rating_df.head()"
   ]
  },
  {
   "cell_type": "code",
   "execution_count": 42,
   "metadata": {},
   "outputs": [
    {
     "data": {
      "text/html": [
       "<div>\n",
       "<style scoped>\n",
       "    .dataframe tbody tr th:only-of-type {\n",
       "        vertical-align: middle;\n",
       "    }\n",
       "\n",
       "    .dataframe tbody tr th {\n",
       "        vertical-align: top;\n",
       "    }\n",
       "\n",
       "    .dataframe thead th {\n",
       "        text-align: right;\n",
       "    }\n",
       "</style>\n",
       "<table border=\"1\" class=\"dataframe\">\n",
       "  <thead>\n",
       "    <tr style=\"text-align: right;\">\n",
       "      <th></th>\n",
       "      <th>ale</th>\n",
       "      <th>ara</th>\n",
       "      <th>en-CA</th>\n",
       "      <th>en-GB</th>\n",
       "      <th>en-US</th>\n",
       "      <th>eng</th>\n",
       "      <th>enm</th>\n",
       "      <th>fre</th>\n",
       "      <th>ger</th>\n",
       "      <th>gla</th>\n",
       "      <th>...</th>\n",
       "      <th>nl</th>\n",
       "      <th>nor</th>\n",
       "      <th>por</th>\n",
       "      <th>rus</th>\n",
       "      <th>spa</th>\n",
       "      <th>srp</th>\n",
       "      <th>swe</th>\n",
       "      <th>tur</th>\n",
       "      <th>wel</th>\n",
       "      <th>zho</th>\n",
       "    </tr>\n",
       "  </thead>\n",
       "  <tbody>\n",
       "    <tr>\n",
       "      <th>0</th>\n",
       "      <td>0</td>\n",
       "      <td>0</td>\n",
       "      <td>0</td>\n",
       "      <td>0</td>\n",
       "      <td>0</td>\n",
       "      <td>1</td>\n",
       "      <td>0</td>\n",
       "      <td>0</td>\n",
       "      <td>0</td>\n",
       "      <td>0</td>\n",
       "      <td>...</td>\n",
       "      <td>0</td>\n",
       "      <td>0</td>\n",
       "      <td>0</td>\n",
       "      <td>0</td>\n",
       "      <td>0</td>\n",
       "      <td>0</td>\n",
       "      <td>0</td>\n",
       "      <td>0</td>\n",
       "      <td>0</td>\n",
       "      <td>0</td>\n",
       "    </tr>\n",
       "    <tr>\n",
       "      <th>1</th>\n",
       "      <td>0</td>\n",
       "      <td>0</td>\n",
       "      <td>0</td>\n",
       "      <td>0</td>\n",
       "      <td>0</td>\n",
       "      <td>1</td>\n",
       "      <td>0</td>\n",
       "      <td>0</td>\n",
       "      <td>0</td>\n",
       "      <td>0</td>\n",
       "      <td>...</td>\n",
       "      <td>0</td>\n",
       "      <td>0</td>\n",
       "      <td>0</td>\n",
       "      <td>0</td>\n",
       "      <td>0</td>\n",
       "      <td>0</td>\n",
       "      <td>0</td>\n",
       "      <td>0</td>\n",
       "      <td>0</td>\n",
       "      <td>0</td>\n",
       "    </tr>\n",
       "    <tr>\n",
       "      <th>2</th>\n",
       "      <td>0</td>\n",
       "      <td>0</td>\n",
       "      <td>0</td>\n",
       "      <td>0</td>\n",
       "      <td>0</td>\n",
       "      <td>1</td>\n",
       "      <td>0</td>\n",
       "      <td>0</td>\n",
       "      <td>0</td>\n",
       "      <td>0</td>\n",
       "      <td>...</td>\n",
       "      <td>0</td>\n",
       "      <td>0</td>\n",
       "      <td>0</td>\n",
       "      <td>0</td>\n",
       "      <td>0</td>\n",
       "      <td>0</td>\n",
       "      <td>0</td>\n",
       "      <td>0</td>\n",
       "      <td>0</td>\n",
       "      <td>0</td>\n",
       "    </tr>\n",
       "    <tr>\n",
       "      <th>3</th>\n",
       "      <td>0</td>\n",
       "      <td>0</td>\n",
       "      <td>0</td>\n",
       "      <td>0</td>\n",
       "      <td>0</td>\n",
       "      <td>1</td>\n",
       "      <td>0</td>\n",
       "      <td>0</td>\n",
       "      <td>0</td>\n",
       "      <td>0</td>\n",
       "      <td>...</td>\n",
       "      <td>0</td>\n",
       "      <td>0</td>\n",
       "      <td>0</td>\n",
       "      <td>0</td>\n",
       "      <td>0</td>\n",
       "      <td>0</td>\n",
       "      <td>0</td>\n",
       "      <td>0</td>\n",
       "      <td>0</td>\n",
       "      <td>0</td>\n",
       "    </tr>\n",
       "    <tr>\n",
       "      <th>4</th>\n",
       "      <td>0</td>\n",
       "      <td>0</td>\n",
       "      <td>0</td>\n",
       "      <td>0</td>\n",
       "      <td>0</td>\n",
       "      <td>1</td>\n",
       "      <td>0</td>\n",
       "      <td>0</td>\n",
       "      <td>0</td>\n",
       "      <td>0</td>\n",
       "      <td>...</td>\n",
       "      <td>0</td>\n",
       "      <td>0</td>\n",
       "      <td>0</td>\n",
       "      <td>0</td>\n",
       "      <td>0</td>\n",
       "      <td>0</td>\n",
       "      <td>0</td>\n",
       "      <td>0</td>\n",
       "      <td>0</td>\n",
       "      <td>0</td>\n",
       "    </tr>\n",
       "  </tbody>\n",
       "</table>\n",
       "<p>5 rows × 27 columns</p>\n",
       "</div>"
      ],
      "text/plain": [
       "   ale  ara  en-CA  en-GB  en-US  eng  enm  fre  ger  gla  ...  nl  nor  por  \\\n",
       "0    0    0      0      0      0    1    0    0    0    0  ...   0    0    0   \n",
       "1    0    0      0      0      0    1    0    0    0    0  ...   0    0    0   \n",
       "2    0    0      0      0      0    1    0    0    0    0  ...   0    0    0   \n",
       "3    0    0      0      0      0    1    0    0    0    0  ...   0    0    0   \n",
       "4    0    0      0      0      0    1    0    0    0    0  ...   0    0    0   \n",
       "\n",
       "   rus  spa  srp  swe  tur  wel  zho  \n",
       "0    0    0    0    0    0    0    0  \n",
       "1    0    0    0    0    0    0    0  \n",
       "2    0    0    0    0    0    0    0  \n",
       "3    0    0    0    0    0    0    0  \n",
       "4    0    0    0    0    0    0    0  \n",
       "\n",
       "[5 rows x 27 columns]"
      ]
     },
     "execution_count": 42,
     "metadata": {},
     "output_type": "execute_result"
    }
   ],
   "source": [
    "language_df = pd.get_dummies(df['language_code'])\n",
    "language_df.head()"
   ]
  },
  {
   "cell_type": "code",
   "execution_count": 44,
   "metadata": {},
   "outputs": [
    {
     "data": {
      "text/html": [
       "<div>\n",
       "<style scoped>\n",
       "    .dataframe tbody tr th:only-of-type {\n",
       "        vertical-align: middle;\n",
       "    }\n",
       "\n",
       "    .dataframe tbody tr th {\n",
       "        vertical-align: top;\n",
       "    }\n",
       "\n",
       "    .dataframe thead th {\n",
       "        text-align: right;\n",
       "    }\n",
       "</style>\n",
       "<table border=\"1\" class=\"dataframe\">\n",
       "  <thead>\n",
       "    <tr style=\"text-align: right;\">\n",
       "      <th></th>\n",
       "      <th>between 0 and 1</th>\n",
       "      <th>between 1 and 2</th>\n",
       "      <th>between 2 and 3</th>\n",
       "      <th>between 3 and 4</th>\n",
       "      <th>between 4 and 5</th>\n",
       "      <th>ale</th>\n",
       "      <th>ara</th>\n",
       "      <th>en-CA</th>\n",
       "      <th>en-GB</th>\n",
       "      <th>en-US</th>\n",
       "      <th>...</th>\n",
       "      <th>por</th>\n",
       "      <th>rus</th>\n",
       "      <th>spa</th>\n",
       "      <th>srp</th>\n",
       "      <th>swe</th>\n",
       "      <th>tur</th>\n",
       "      <th>wel</th>\n",
       "      <th>zho</th>\n",
       "      <th>average_rating</th>\n",
       "      <th>ratings_count</th>\n",
       "    </tr>\n",
       "  </thead>\n",
       "  <tbody>\n",
       "    <tr>\n",
       "      <th>0</th>\n",
       "      <td>0</td>\n",
       "      <td>0</td>\n",
       "      <td>0</td>\n",
       "      <td>0</td>\n",
       "      <td>1</td>\n",
       "      <td>0</td>\n",
       "      <td>0</td>\n",
       "      <td>0</td>\n",
       "      <td>0</td>\n",
       "      <td>0</td>\n",
       "      <td>...</td>\n",
       "      <td>0</td>\n",
       "      <td>0</td>\n",
       "      <td>0</td>\n",
       "      <td>0</td>\n",
       "      <td>0</td>\n",
       "      <td>0</td>\n",
       "      <td>0</td>\n",
       "      <td>0</td>\n",
       "      <td>4.57</td>\n",
       "      <td>2095690</td>\n",
       "    </tr>\n",
       "    <tr>\n",
       "      <th>1</th>\n",
       "      <td>0</td>\n",
       "      <td>0</td>\n",
       "      <td>0</td>\n",
       "      <td>0</td>\n",
       "      <td>1</td>\n",
       "      <td>0</td>\n",
       "      <td>0</td>\n",
       "      <td>0</td>\n",
       "      <td>0</td>\n",
       "      <td>0</td>\n",
       "      <td>...</td>\n",
       "      <td>0</td>\n",
       "      <td>0</td>\n",
       "      <td>0</td>\n",
       "      <td>0</td>\n",
       "      <td>0</td>\n",
       "      <td>0</td>\n",
       "      <td>0</td>\n",
       "      <td>0</td>\n",
       "      <td>4.49</td>\n",
       "      <td>2153167</td>\n",
       "    </tr>\n",
       "    <tr>\n",
       "      <th>2</th>\n",
       "      <td>0</td>\n",
       "      <td>0</td>\n",
       "      <td>0</td>\n",
       "      <td>0</td>\n",
       "      <td>1</td>\n",
       "      <td>0</td>\n",
       "      <td>0</td>\n",
       "      <td>0</td>\n",
       "      <td>0</td>\n",
       "      <td>0</td>\n",
       "      <td>...</td>\n",
       "      <td>0</td>\n",
       "      <td>0</td>\n",
       "      <td>0</td>\n",
       "      <td>0</td>\n",
       "      <td>0</td>\n",
       "      <td>0</td>\n",
       "      <td>0</td>\n",
       "      <td>0</td>\n",
       "      <td>4.42</td>\n",
       "      <td>6333</td>\n",
       "    </tr>\n",
       "    <tr>\n",
       "      <th>3</th>\n",
       "      <td>0</td>\n",
       "      <td>0</td>\n",
       "      <td>0</td>\n",
       "      <td>0</td>\n",
       "      <td>1</td>\n",
       "      <td>0</td>\n",
       "      <td>0</td>\n",
       "      <td>0</td>\n",
       "      <td>0</td>\n",
       "      <td>0</td>\n",
       "      <td>...</td>\n",
       "      <td>0</td>\n",
       "      <td>0</td>\n",
       "      <td>0</td>\n",
       "      <td>0</td>\n",
       "      <td>0</td>\n",
       "      <td>0</td>\n",
       "      <td>0</td>\n",
       "      <td>0</td>\n",
       "      <td>4.56</td>\n",
       "      <td>2339585</td>\n",
       "    </tr>\n",
       "    <tr>\n",
       "      <th>4</th>\n",
       "      <td>0</td>\n",
       "      <td>0</td>\n",
       "      <td>0</td>\n",
       "      <td>0</td>\n",
       "      <td>1</td>\n",
       "      <td>0</td>\n",
       "      <td>0</td>\n",
       "      <td>0</td>\n",
       "      <td>0</td>\n",
       "      <td>0</td>\n",
       "      <td>...</td>\n",
       "      <td>0</td>\n",
       "      <td>0</td>\n",
       "      <td>0</td>\n",
       "      <td>0</td>\n",
       "      <td>0</td>\n",
       "      <td>0</td>\n",
       "      <td>0</td>\n",
       "      <td>0</td>\n",
       "      <td>4.78</td>\n",
       "      <td>41428</td>\n",
       "    </tr>\n",
       "  </tbody>\n",
       "</table>\n",
       "<p>5 rows × 34 columns</p>\n",
       "</div>"
      ],
      "text/plain": [
       "   between 0 and 1  between 1 and 2  between 2 and 3  between 3 and 4  \\\n",
       "0                0                0                0                0   \n",
       "1                0                0                0                0   \n",
       "2                0                0                0                0   \n",
       "3                0                0                0                0   \n",
       "4                0                0                0                0   \n",
       "\n",
       "   between 4 and 5  ale  ara  en-CA  en-GB  en-US  ...  por  rus  spa  srp  \\\n",
       "0                1    0    0      0      0      0  ...    0    0    0    0   \n",
       "1                1    0    0      0      0      0  ...    0    0    0    0   \n",
       "2                1    0    0      0      0      0  ...    0    0    0    0   \n",
       "3                1    0    0      0      0      0  ...    0    0    0    0   \n",
       "4                1    0    0      0      0      0  ...    0    0    0    0   \n",
       "\n",
       "   swe  tur  wel  zho  average_rating  ratings_count  \n",
       "0    0    0    0    0            4.57        2095690  \n",
       "1    0    0    0    0            4.49        2153167  \n",
       "2    0    0    0    0            4.42           6333  \n",
       "3    0    0    0    0            4.56        2339585  \n",
       "4    0    0    0    0            4.78          41428  \n",
       "\n",
       "[5 rows x 34 columns]"
      ]
     },
     "execution_count": 44,
     "metadata": {},
     "output_type": "execute_result"
    }
   ],
   "source": [
    "features = pd.concat([rating_df, language_df, df['average_rating'], df['ratings_count']], axis=1)\n",
    "features.head()"
   ]
  },
  {
   "cell_type": "code",
   "execution_count": 49,
   "metadata": {},
   "outputs": [],
   "source": [
    "from sklearn.preprocessing import MinMaxScaler\n",
    "min_max_scaler = MinMaxScaler()\n",
    "features = min_max_scaler.fit_transform(features)"
   ]
  },
  {
   "cell_type": "code",
   "execution_count": 50,
   "metadata": {},
   "outputs": [],
   "source": [
    "model = neighbors.NearestNeighbors(n_neighbors=6, algorithm='ball_tree')\n",
    "model.fit(features)\n",
    "dist, idlist = model.kneighbors(features)"
   ]
  },
  {
   "cell_type": "code",
   "execution_count": 55,
   "metadata": {},
   "outputs": [],
   "source": [
    "def BookRecommender(book_name):\n",
    "    book_list_name = []\n",
    "    book_id = df[df['title'] == book_name].index\n",
    "    book_id = book_id[0]\n",
    "    for newid in idlist[book_id]:\n",
    "        book_list_name.append(df.loc[newid].title)\n",
    "    return book_list_name"
   ]
  },
  {
   "cell_type": "code",
   "execution_count": 56,
   "metadata": {},
   "outputs": [
    {
     "data": {
      "text/plain": [
       "['Harry Potter and the Half-Blood Prince (Harry Potter  #6)',\n",
       " 'Harry Potter and the Order of the Phoenix (Harry Potter  #5)',\n",
       " 'The Fellowship of the Ring (The Lord of the Rings  #1)',\n",
       " 'Harry Potter and the Chamber of Secrets (Harry Potter  #2)',\n",
       " 'Harry Potter and the Prisoner of Azkaban (Harry Potter  #3)',\n",
       " 'The Lightning Thief (Percy Jackson and the Olympians  #1)']"
      ]
     },
     "execution_count": 56,
     "metadata": {},
     "output_type": "execute_result"
    }
   ],
   "source": [
    "BookNames = BookRecommender('Harry Potter and the Half-Blood Prince (Harry Potter  #6)')\n",
    "BookNames"
   ]
  }
 ],
 "metadata": {
  "kernelspec": {
   "display_name": "Python 3",
   "language": "python",
   "name": "python3"
  },
  "language_info": {
   "codemirror_mode": {
    "name": "ipython",
    "version": 3
   },
   "file_extension": ".py",
   "mimetype": "text/x-python",
   "name": "python",
   "nbconvert_exporter": "python",
   "pygments_lexer": "ipython3",
   "version": "3.8.5"
  },
  "toc": {
   "base_numbering": 1,
   "nav_menu": {},
   "number_sections": true,
   "sideBar": true,
   "skip_h1_title": false,
   "title_cell": "Table of Contents",
   "title_sidebar": "Contents",
   "toc_cell": true,
   "toc_position": {},
   "toc_section_display": true,
   "toc_window_display": false
  }
 },
 "nbformat": 4,
 "nbformat_minor": 4
}
